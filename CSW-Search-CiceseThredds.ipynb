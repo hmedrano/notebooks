{
 "metadata": {
  "name": "",
  "signature": "sha256:4bbe8551b4b552413c398d0b85879502e5e70e6fbdaa0b9b0ca6f825f4ff3ef7"
 },
 "nbformat": 3,
 "nbformat_minor": 0,
 "worksheets": [
  {
   "cells": [
    {
     "cell_type": "code",
     "collapsed": true,
     "input": [
      "import netCDF4 as nc \n",
      "import owslib\n",
      "from owslib.csw import CatalogueServiceWeb\n",
      "from owslib import fes\n",
      "\n",
      "from IPython.core.display import HTML\n",
      "HTML('<iframe src=http://cic-pem.cicese.mx:8080/thredds/catalog/ANCLAJES/catalog.html width=950 height=400></iframe>')"
     ],
     "language": "python",
     "metadata": {},
     "outputs": [
      {
       "html": [
        "<iframe src=http://cic-pem.cicese.mx:8080/thredds/catalog/ANCLAJES/catalog.html width=950 height=400></iframe>"
       ],
       "metadata": {},
       "output_type": "pyout",
       "prompt_number": 1,
       "text": [
        "<IPython.core.display.HTML at 0x3746438>"
       ]
      }
     ],
     "prompt_number": 1
    },
    {
     "cell_type": "code",
     "collapsed": false,
     "input": [
      "# Servicio funcionando ? , muestranos la version.\n",
      "endpoint = 'http://cic-pem.cicese.mx:8080/gi-cat/services/cswiso?'\n",
      "csw = CatalogueServiceWeb(endpoint,timeout=50)\n",
      "csw.version"
     ],
     "language": "python",
     "metadata": {},
     "outputs": [
      {
       "metadata": {},
       "output_type": "pyout",
       "prompt_number": 2,
       "text": [
        "'2.0.2'"
       ]
      }
     ],
     "prompt_number": 2
    },
    {
     "cell_type": "code",
     "collapsed": false,
     "input": [
      "# Listar operaciones disponibles en la interface\n",
      "[op.name for op in csw.operations]"
     ],
     "language": "python",
     "metadata": {},
     "outputs": [
      {
       "metadata": {},
       "output_type": "pyout",
       "prompt_number": 3,
       "text": [
        "['GetCapabilities', 'DescribeRecord', 'GetRecords', 'GetRecordById']"
       ]
      }
     ],
     "prompt_number": 3
    },
    {
     "cell_type": "code",
     "collapsed": false,
     "input": [
      "# Consulta con el esquema de salida default CSW 2.0.2 no entrega url de conexion a opendap.\n",
      "# Pero entendemos como formar una consulta con los metodos de \"fes\"\n",
      "\n",
      "keyword1 = fes.PropertyIsLike(propertyname='csw:AnyText', literal='%CNK30%', wildCard='%')\n",
      "keyword2 = fes.PropertyIsLike(propertyname='csw:AnyText', literal='%PER-T500%', wildCard='%')\n",
      "serviceType = fes.PropertyIsEqualTo(propertyname='dc:Type', literal='dataset')\n",
      "filter_list = [fes.And([keyword1,keyword2,serviceType])]\n",
      "#keyword3 = fes.PropertyIsLike('anyText', literal='MCT')\n",
      "#keyword4 = fes.PropertyIsLike('anyText', literal='Temp')\n",
      "endpoint = 'http://cic-pem.cicese.mx:8080/gi-cat/services/cswiso?'\n",
      "csw = CatalogueServiceWeb(endpoint,timeout=50)\n",
      "csw.getrecords2(constraints=filter_list,esn='full',maxrecords=1)\n",
      "#print csw.results\n",
      "#print csw.request\n",
      "print csw.response\n",
      "# getService_urls not working with my csw service.\n",
      "print csw.getService_urls()"
     ],
     "language": "python",
     "metadata": {},
     "outputs": [
      {
       "output_type": "stream",
       "stream": "stdout",
       "text": [
        "<?xml version='1.0' encoding='UTF-8'?><csw:GetRecordsResponse xmlns:csw=\"http://www.opengis.net/cat/csw/2.0.2\" xmlns:ogc=\"http://www.opengis.net/ogc\" xmlns:gmd=\"http://www.isotc211.org/2005/gmd\" xmlns:ows=\"http://www.opengis.net/ows\" xmlns:xlink=\"http://www.w3.org/1999/xlink\" xmlns:xsi=\"http://www.w3.org/2001/XMLSchema-instance\" version=\"2.0.2\" xsi:schemaLocation=\"http://www.opengis.net/cat/csw/2.0.2 http://schemas.opengis.net/csw/2.0.2/CSW-discovery.xsd\">\n",
        "    <csw:RequestId/>\n",
        "    <csw:SearchStatus timestamp=\"2014-11-24T15:11:37.536-08:00\"/>\n",
        "    <csw:SearchResults nextRecord=\"2\" numberOfRecordsMatched=\"16\" numberOfRecordsReturned=\"1\" recordSchema=\"http://www.opengis.net/cat/csw/2.0.2\"><csw:Record xmlns:dc=\"http://purl.org/dc/elements/1.1/\" xmlns:dct=\"http://purl.org/dc/terms/\" xmlns:gml=\"http://www.opengis.net/gml\" xsi:schemaLocation=\"http://www.opengis.net/cat/csw/2.0.2 http://schemas.opengis.net/csw/2.0.2/CSW-publication.xsd\"><dc:identifier>aHR0cDovL2NpYy1wZW0uY2ljZXNlLm14OjgwODAvdGhyZWRkcy9jYXRhbG9nL0FOQ0xBSkVTL0NOSzMwL1BFUi1UNTAwLUNOSzMwL01DVFMvY2F0YWxvZy54bWwjLy90aHI6ZGF0YXNldFtASUQ9J0lEX2NhdGFsb2dvX2FuY2xhamVzL0NOSzMwL1BFUi1UNTAwLUNOSzMwL01DVFMvUEVSLVQ1MDAtTUNULU5TNjIyNC1aNDkwLUlOUzI3LVJFQzMwLm5jJ10=</dc:identifier><dc:title>MCTS/PER-T500-MCT-NS6224-Z490-INS27-REC30.nc MCTS/PER-T500-MCT-NS6224-Z490-INS27-REC30.nc MCTS/PER-T500-MCT-NS6224-Z490-INS27-REC30.nc MCTS/PER-T500-MCT-NS6224-Z490-INS27-REC30.nc</dc:title><dc:type>dataset service</dc:type><dc:subject>climatologyMeteorologyAtmosphere</dc:subject><dc:format/><dc:relation/><dct:modified>2014-11-10</dct:modified><dct:abstract/><dc:source>aHR0cDovL2NpYy1wZW0uY2ljZXNlLm14OjgwODAvdGhyZWRkcy9jYXRhbG9nL0FOQ0xBSkVTL0NOSzMwL1BFUi1UNTAwLUNOSzMwL01DVFMvY2F0YWxvZy54bWwjLy90aHI6ZGF0YXNldFtASUQ9J0lEX2NhdGFsb2dvX2FuY2xhamVzL0NOSzMwL1BFUi1UNTAwLUNOSzMwL01DVFMnXQ==</dc:source><dc:language/><ows:BoundingBox><ows:LowerCorner>-96.28835 25.586766666666666</ows:LowerCorner><ows:UpperCorner>-96.28835 25.586766666666666</ows:UpperCorner></ows:BoundingBox></csw:Record></csw:SearchResults>\n",
        "</csw:GetRecordsResponse>\n",
        "[]\n"
       ]
      }
     ],
     "prompt_number": 4
    },
    {
     "cell_type": "code",
     "collapsed": false,
     "input": [
      "# Consulta al catalogo cic-pem, funcional con el esquema de salida GMD \n",
      "\n",
      "endpoint = 'http://cic-pem.cicese.mx:8080/gi-cat/services/cswiso?'\n",
      "myCSW = CatalogueServiceWeb(endpoint,timeout=50)\n",
      "#myCSW.getrecords2(constraints=filter_list,esn='full',outputschema='http://www.isotc211.org/2005/gmd',typenames='gmd:MD_Metadata' , maxrecords=1)\n",
      "myCSW.getrecords2(constraints=filter_list,esn='full',outputschema=owslib.csw.namespaces['gmd'], maxrecords=1)\n",
      "print ' ----- '\n",
      "print myCSW.results\n",
      "print ' ----- '\n",
      "\n",
      "# show results\n",
      "\n",
      "# Explorando el primer objeto retornado por la consulta.\n",
      "#firstRecord = myCSW.records[myCSW.records.keys()[0]]\n",
      "print \"LISTANDO RESULTADOS ----\"\n",
      "# Listar los registros encontrados en la consulta: \n",
      "for i, recordKey in enumerate(myCSW.records.keys()):\n",
      "    print \"Registro: \" + str(i+1) + \" - id: \" + str(recordKey)\n",
      "    recordInfo = myCSW.records[recordKey]\n",
      "    \n",
      "    print \"Titulo registro: \" + recordInfo.identification.title\n",
      "    print \"tipo de registro: \" + recordInfo.identification.identtype\n",
      "    print \"bbox: \" + str([recordInfo.identification.bbox.minx,recordInfo.identification.bbox.miny, \\\n",
      "                          recordInfo.identification.bbox.maxx,recordInfo.identification.bbox.maxy])    \n",
      "    # Rango temporal del registro,\n",
      "    print \"temporalextent_start: \" + str(recordInfo.identification.temporalextent_start)\n",
      "    print \"temporalextent_end: \" + str(recordInfo.identification.temporalextent_end)\n",
      "    # Nos retorna None para ambos campos start y end, puede ser por que no cumplimos con la \n",
      "    # convencion CF-1 para nombrar la dimension temporal?  (Actulmente anclajes maneja jd como nombre \n",
      "    # de variable de dimension para el tiempo)\n",
      "    \n",
      "    print \"Objetos de indentificacion encontrados: \" + str( len(recordInfo.identificationinfo) )\n",
      "    \n",
      "    # Ciclo para revisar el contenido del arreglo indentificationinfo, que contiene los metodos de acceso al dataset\n",
      "    # consultado.\n",
      "    for i,idInfo in enumerate(recordInfo.identificationinfo):\n",
      "        print \"Tipo de objeto identificacion: \" + str(i) + \" - \" + idInfo.identtype \n",
      "        if idInfo.identtype == 'service':\n",
      "            print \" - \" + idInfo.operations[0]['name'] + \" \" + idInfo.operations[0]['connectpoint'][0].url\n",
      "            # connectpoint contiene campos : url, description, protocol y name\n",
      "        else:\n",
      "            print \" - \" + \"Titulo : \" + idInfo.title\n",
      "            print \" - \" + \"Extent min (x,y) : \" + str(idInfo.extent.boundingBox.minx) + \", \" + str(idInfo.extent.boundingBox.miny) \n",
      "            print \" - \" + \"Extent max (x,y): \" + str(idInfo.extent.boundingBox.maxx) + \", \" + str(idInfo.extent.boundingBox.maxy) \n",
      "        \n",
      "    print \"------------------\"\n",
      "    print \"------------------\"\n",
      "\n"
     ],
     "language": "python",
     "metadata": {},
     "outputs": [
      {
       "output_type": "stream",
       "stream": "stdout",
       "text": [
        " ----- \n",
        "{'matches': 16, 'nextrecord': 2, 'returned': 1}\n",
        " ----- \n",
        "LISTANDO RESULTADOS ----\n",
        "Registro: 1 - id: aHR0cDovL2NpYy1wZW0uY2ljZXNlLm14OjgwODAvdGhyZWRkcy9jYXRhbG9nL0FOQ0xBSkVTL0NOSzMwL1BFUi1UNTAwLUNOSzMwL01DVFMvY2F0YWxvZy54bWwjLy90aHI6ZGF0YXNldFtASUQ9J0lEX2NhdGFsb2dvX2FuY2xhamVzL0NOSzMwL1BFUi1UNTAwLUNOSzMwL01DVFMvUEVSLVQ1MDAtTUNULU5TNjIyNC1aNDkwLUlOUzI3LVJFQzMwLm5jJ10=\n",
        "Titulo registro: MCTS/PER-T500-MCT-NS6224-Z490-INS27-REC30.nc\n",
        "tipo de registro: dataset\n",
        "bbox: ['-96.28835', '25.586766666666666', '-96.28835', '25.586766666666666']\n",
        "temporalextent_start: None\n",
        "temporalextent_start: None\n",
        "Objetos de indentificacion encontrados: 4\n",
        "Tipo de objeto identificacion: 0 - dataset\n",
        " - Titulo : MCTS/PER-T500-MCT-NS6224-Z490-INS27-REC30.nc\n",
        " - Extent min (x,y) : -96.28835, 25.586766666666666\n",
        " - Extent max (x,y): -96.28835, 25.586766666666666\n",
        "Tipo de objeto identificacion: 1 - service\n",
        " - OPeNDAP Client Access http://cic-pem.cicese.mx:8080/thredds/dodsC/ANCLAJES/CNK30/PER-T500-CNK30/MCTS/PER-T500-MCT-NS6224-Z490-INS27-REC30.nc\n",
        "Tipo de objeto identificacion: 2 - service\n",
        " - NetCDFSubsetService http://cic-pem.cicese.mx:8080/thredds/ncss/grid/ANCLAJES/CNK30/PER-T500-CNK30/MCTS/PER-T500-MCT-NS6224-Z490-INS27-REC30.nc/dataset.html\n",
        "Tipo de objeto identificacion: 3 - service\n",
        " - FileHTTPService http://cic-pem.cicese.mx:8080/thredds/fileServer/ANCLAJES/CNK30/PER-T500-CNK30/MCTS/PER-T500-MCT-NS6224-Z490-INS27-REC30.nc\n",
        "------------------\n",
        "------------------\n"
       ]
      }
     ],
     "prompt_number": 5
    },
    {
     "cell_type": "code",
     "collapsed": true,
     "input": [
      "for oper in csw.operations:\n",
      "    if oper.name == 'GetRecords':\n",
      "        cnstr = oper.constraints['SupportedISOQueryables']['values']\n",
      "        print('\\nISO Queryables:\\n%s \\n' % '\\n'.join(cnstr))"
     ],
     "language": "python",
     "metadata": {},
     "outputs": [
      {
       "ename": "TypeError",
       "evalue": "list indices must be integers, not str",
       "output_type": "pyerr",
       "traceback": [
        "\u001b[1;31m---------------------------------------------------------------------------\u001b[0m\n\u001b[1;31mTypeError\u001b[0m                                 Traceback (most recent call last)",
        "\u001b[1;32m<ipython-input-35-5fe4bda76b25>\u001b[0m in \u001b[0;36m<module>\u001b[1;34m()\u001b[0m\n\u001b[0;32m      1\u001b[0m \u001b[1;32mfor\u001b[0m \u001b[0moper\u001b[0m \u001b[1;32min\u001b[0m \u001b[0mcsw\u001b[0m\u001b[1;33m.\u001b[0m\u001b[0moperations\u001b[0m\u001b[1;33m:\u001b[0m\u001b[1;33m\u001b[0m\u001b[0m\n\u001b[0;32m      2\u001b[0m     \u001b[1;32mif\u001b[0m \u001b[0moper\u001b[0m\u001b[1;33m.\u001b[0m\u001b[0mname\u001b[0m \u001b[1;33m==\u001b[0m \u001b[1;34m'GetRecords'\u001b[0m\u001b[1;33m:\u001b[0m\u001b[1;33m\u001b[0m\u001b[0m\n\u001b[1;32m----> 3\u001b[1;33m         \u001b[0mcnstr\u001b[0m \u001b[1;33m=\u001b[0m \u001b[0moper\u001b[0m\u001b[1;33m.\u001b[0m\u001b[0mconstraints\u001b[0m\u001b[1;33m[\u001b[0m\u001b[1;34m'SupportedISOQueryables'\u001b[0m\u001b[1;33m]\u001b[0m\u001b[1;33m[\u001b[0m\u001b[1;34m'values'\u001b[0m\u001b[1;33m]\u001b[0m\u001b[1;33m\u001b[0m\u001b[0m\n\u001b[0m\u001b[0;32m      4\u001b[0m         \u001b[1;32mprint\u001b[0m\u001b[1;33m(\u001b[0m\u001b[1;34m'\\nISO Queryables:\\n%s \\n'\u001b[0m \u001b[1;33m%\u001b[0m \u001b[1;34m'\\n'\u001b[0m\u001b[1;33m.\u001b[0m\u001b[0mjoin\u001b[0m\u001b[1;33m(\u001b[0m\u001b[0mcnstr\u001b[0m\u001b[1;33m)\u001b[0m\u001b[1;33m)\u001b[0m\u001b[1;33m\u001b[0m\u001b[0m\n",
        "\u001b[1;31mTypeError\u001b[0m: list indices must be integers, not str"
       ]
      }
     ],
     "prompt_number": 35
    },
    {
     "cell_type": "code",
     "collapsed": false,
     "input": [
      "# get specific ServiceType URL from records\n",
      "def service_urls(records,service_string='urn:x-esri:specification:ServiceType:odp:url'):\n",
      "    urls=[]\n",
      "    for key,rec in records.iteritems():\n",
      "        #create a generator object, and iterate through it until the match is found\n",
      "        #if not found, gets the default value (here \"none\")\n",
      "        url = next((d['url'] for d in rec.references if d['scheme'] == service_string), None)\n",
      "        if url is not None:\n",
      "            urls.append(url)\n",
      "    return urls\n",
      "\n",
      "dap_urls = service_urls(csw.records)\n",
      "print \"\\n\".join(dap_urls)"
     ],
     "language": "python",
     "metadata": {},
     "outputs": [
      {
       "output_type": "stream",
       "stream": "stdout",
       "text": [
        "\n"
       ]
      }
     ],
     "prompt_number": 5
    },
    {
     "cell_type": "code",
     "collapsed": false,
     "input": [
      "xmlQuery = '<?xml version=\"1.0\" encoding=\"ISO-8859-1\" standalone=\"no\"?>\\n<csw:GetRecords xmlns:csw=\"http://www.opengis.net/cat/csw/2.0.2\" xmlns:xsi=\"http://www.w3.org/2001/XMLSchema-instance\" xmlns:ogc=\"http://www.opengis.net/ogc\" xmlns:gmd=\"http://www.isotc211.org/2005/gmd\" outputSchema=\"http://www.opengis.net/cat/csw/2.0.2\" outputFormat=\"application/xml\" version=\"2.0.2\" service=\"CSW\" resultType=\"results\" maxRecords=\"1\" xsi:schemaLocation=\"http://www.opengis.net/cat/csw/2.0.2 http://schemas.opengis.net/csw/2.0.2/CSW-discovery.xsd\"><csw:Query typeNames=\"gmd:MD_Metadata\"><csw:ElementSetName typeNames=\"gmd:MD_Metadata\">full</csw:ElementSetName><csw:Constraint version=\"1.1.0\"><ogc:Filter><ogc:And><ogc:PropertyIsLike wildCard=\"%\" singleChar=\"_\" escapeChar=\"\\\\\"><ogc:PropertyName>csw:AnyText</ogc:PropertyName><ogc:Literal>%CNK30%</ogc:Literal></ogc:PropertyIsLike><ogc:PropertyIsLike wildCard=\"%\" singleChar=\"_\" escapeChar=\"\\\\\"><ogc:PropertyName>csw:AnyText</ogc:PropertyName><ogc:Literal>%PER-T500%</ogc:Literal></ogc:PropertyIsLike><ogc:PropertyIsLike wildCard=\"%\" singleChar=\"_\" escapeChar=\"\\\\\"><ogc:PropertyName>csw:AnyText</ogc:PropertyName><ogc:Literal>%opendap%</ogc:Literal></ogc:PropertyIsLike></ogc:And></ogc:Filter></csw:Constraint></csw:Query></csw:GetRecords>'\n",
      "endpoint = 'http://cic-pem.cicese.mx:8080/gi-cat/services/cswisogeo?'\n",
      "csw = CatalogueServiceWeb(endpoint,timeout=50)\n",
      "csw.getrecords2(xml=xmlQuery)\n",
      "print csw.request\n",
      "print ' ----- '\n",
      "print csw.results\n",
      "print csw.response\n",
      "\n",
      "for rec in csw.records:\n",
      "     identt = csw.records[rec].identifier\n",
      "\n",
      "csw.getrecordbyid(id=[identt])\n",
      "for rec in csw.records:\n",
      "     identt = csw.records[rec].title\n"
     ],
     "language": "python",
     "metadata": {},
     "outputs": [
      {
       "output_type": "stream",
       "stream": "stdout",
       "text": [
        "<?xml version=\"1.0\" encoding=\"utf-8\" standalone=\"no\"?>\n",
        "<csw:GetRecords xmlns:csw=\"http://www.opengis.net/cat/csw/2.0.2\" xmlns:xsi=\"http://www.w3.org/2001/XMLSchema-instance\" xmlns:ogc=\"http://www.opengis.net/ogc\" xmlns:gmd=\"http://www.isotc211.org/2005/gmd\" outputSchema=\"http://www.opengis.net/cat/csw/2.0.2\" outputFormat=\"application/xml\" version=\"2.0.2\" service=\"CSW\" resultType=\"results\" maxRecords=\"1\" xsi:schemaLocation=\"http://www.opengis.net/cat/csw/2.0.2 http://schemas.opengis.net/csw/2.0.2/CSW-discovery.xsd\"><csw:Query typeNames=\"gmd:MD_Metadata\"><csw:ElementSetName typeNames=\"gmd:MD_Metadata\">full</csw:ElementSetName><csw:Constraint version=\"1.1.0\"><ogc:Filter><ogc:And><ogc:PropertyIsLike wildCard=\"%\" singleChar=\"_\" escapeChar=\"\\\"><ogc:PropertyName>csw:AnyText</ogc:PropertyName><ogc:Literal>%CNK30%</ogc:Literal></ogc:PropertyIsLike><ogc:PropertyIsLike wildCard=\"%\" singleChar=\"_\" escapeChar=\"\\\"><ogc:PropertyName>csw:AnyText</ogc:PropertyName><ogc:Literal>%PER-T500%</ogc:Literal></ogc:PropertyIsLike><ogc:PropertyIsLike wildCard=\"%\" singleChar=\"_\" escapeChar=\"\\\"><ogc:PropertyName>csw:AnyText</ogc:PropertyName><ogc:Literal>%opendap%</ogc:Literal></ogc:PropertyIsLike></ogc:And></ogc:Filter></csw:Constraint></csw:Query></csw:GetRecords>\n",
        " ----- \n",
        "{'matches': 16, 'nextrecord': 2, 'returned': 1}\n",
        "<?xml version='1.0' encoding='UTF-8'?><csw:GetRecordsResponse xmlns:csw=\"http://www.opengis.net/cat/csw/2.0.2\" xmlns:ogc=\"http://www.opengis.net/ogc\" xmlns:gmd=\"http://www.isotc211.org/2005/gmd\" xmlns:ows=\"http://www.opengis.net/ows\" xmlns:xlink=\"http://www.w3.org/1999/xlink\" xmlns:xsi=\"http://www.w3.org/2001/XMLSchema-instance\" version=\"2.0.2\" xsi:schemaLocation=\"http://www.opengis.net/cat/csw/2.0.2 http://schemas.opengis.net/csw/2.0.2/CSW-discovery.xsd\">\n",
        "    <csw:RequestId/>\n",
        "    <csw:SearchStatus timestamp=\"2014-10-22T23:27:45.503-07:00\"/>\n",
        "    <csw:SearchResults nextRecord=\"2\" numberOfRecordsMatched=\"16\" numberOfRecordsReturned=\"1\" recordSchema=\"http://www.opengis.net/cat/csw/2.0.2\"><csw:Record xmlns:dc=\"http://purl.org/dc/elements/1.1/\" xmlns:dct=\"http://purl.org/dc/terms/\" xmlns:gml=\"http://www.opengis.net/gml\" xsi:schemaLocation=\"http://www.opengis.net/cat/csw/2.0.2 http://schemas.opengis.net/csw/2.0.2/CSW-publication.xsd\"><dc:identifier>aHR0cDovL2NpYy1wZW0uY2ljZXNlLm14OjgwODAvdGhyZWRkcy9jYXRhbG9nL0FOQ0xBSkVTL0NOSzMwL1BFUi1UNTAwLUNOSzMwL01DVFMvY2F0YWxvZy54bWwjLy90aHI6ZGF0YXNldFtASUQ9J0lEX2NhdGFsb2dvX2FuY2xhamVzL0NOSzMwL1BFUi1UNTAwLUNOSzMwL01DVFMvUEVSLVQ1MDAtTUNULU5TNjIyNC1aNDkwLUlOUzI3LVJFQzMwLm5jJ10=</dc:identifier><dc:title>MCTS/PER-T500-MCT-NS6224-Z490-INS27-REC30.nc MCTS/PER-T500-MCT-NS6224-Z490-INS27-REC30.nc MCTS/PER-T500-MCT-NS6224-Z490-INS27-REC30.nc MCTS/PER-T500-MCT-NS6224-Z490-INS27-REC30.nc</dc:title><dc:type>dataset service</dc:type><dc:subject>climatologyMeteorologyAtmosphere</dc:subject><dc:format/><dc:relation/><dct:modified>2014-10-14</dct:modified><dct:abstract/><dc:source>aHR0cDovL2NpYy1wZW0uY2ljZXNlLm14OjgwODAvdGhyZWRkcy9jYXRhbG9nL0FOQ0xBSkVTL0NOSzMwL1BFUi1UNTAwLUNOSzMwL01DVFMvY2F0YWxvZy54bWwjLy90aHI6ZGF0YXNldFtASUQ9J0lEX2NhdGFsb2dvX2FuY2xhamVzL0NOSzMwL1BFUi1UNTAwLUNOSzMwL01DVFMnXQ==</dc:source><dc:language/><ows:BoundingBox><ows:LowerCorner>-96.28835 25.586766666666666</ows:LowerCorner><ows:UpperCorner>-96.28835 25.586766666666666</ows:UpperCorner></ows:BoundingBox></csw:Record></csw:SearchResults>\n",
        "</csw:GetRecordsResponse>\n"
       ]
      }
     ],
     "prompt_number": 8
    },
    {
     "cell_type": "code",
     "collapsed": true,
     "input": [
      "ident= 'aHR0cDovL2NpYy1wZW0uY2ljZXNlLm14OjgwODAvdGhyZWRkcy9jYXRhbG9nL0FOQ0xBSkVTL0NOSzMwL1BFUi1UNTAwLUNOSzMwL01DVFMvY2F0YWxvZy54bWwjLy90aHI6ZGF0YXNldFtASUQ9J0lEX2NhdGFsb2dvX2FuY2xhamVzL0NOSzMwL1BFUi1UNTAwLUNOSzMwL01DVFMvUEVSLVQ1MDAtTUNULU5TNjIyNC1aNDkwLUlOUzI3LVJFQzMwLm5jJ10'\n",
      "endpoint = 'http://cic-pem.cicese.mx:8080/gi-cat/services/cswiso?'\n",
      "csw = CatalogueServiceWeb(endpoint,timeout=50)\n",
      "csw.getrecordbyid(id=[identt])\n",
      "for rec in csw.records:\n",
      "     identt = csw.records[rec].title\n"
     ],
     "language": "python",
     "metadata": {},
     "outputs": [],
     "prompt_number": 9
    },
    {
     "cell_type": "code",
     "collapsed": false,
     "input": [
      "endpoint = 'http://cic-pem.cicese.mx:8080/gi-cat/services/cswiso?'\n",
      "csw = CatalogueServiceWeb(endpoint,timeout=50)\n",
      "# Keywords only are joined by an \"OR\" operator\n",
      "csw.getrecords(keywords=['PER-T500'],outputschema=\"http://www.isotc211.org/2005/gmd\",typenames='gmd:MD_Metadata',esn='full',qtype='dataset',maxrecords=10)\n",
      "print csw.results\n",
      "print csw.request\n",
      "#for rec in csw.records:\n",
      "#     print dir(csw.records[rec])\n",
      "print ' ---- '\n",
      "dapUrls = []\n",
      "from xml.dom import minidom\n",
      "\n",
      "for rec in csw.records:\n",
      "     xmldoc = minidom.parseString(csw.records[rec].xml)\n",
      "     itemlist = xmldoc.getElementsByTagName('gmd:URL')\n",
      "     dapUrls.append(itemlist[0].childNodes[0].nodeValue)\n",
      "\n",
      "print '\\n'.join(dapUrls)\n"
     ],
     "language": "python",
     "metadata": {},
     "outputs": [
      {
       "output_type": "stream",
       "stream": "stdout",
       "text": [
        "{'matches': 80, 'nextrecord': 11, 'returned': 10}\n",
        "<?xml version=\"1.0\" encoding=\"utf-8\" standalone=\"no\"?>\n",
        "<csw:GetRecords xmlns:csw=\"http://www.opengis.net/cat/csw/2.0.2\" xmlns:xsi=\"http://www.w3.org/2001/XMLSchema-instance\" xmlns:ogc=\"http://www.opengis.net/ogc\" xmlns:gmd=\"http://www.isotc211.org/2005/gmd\" outputSchema=\"http://www.isotc211.org/2005/gmd\" outputFormat=\"application/xml\" version=\"2.0.2\" resultType=\"results\" service=\"CSW\" maxRecords=\"10\" xsi:schemaLocation=\"http://www.opengis.net/cat/csw/2.0.2 http://schemas.opengis.net/csw/2.0.2/CSW-discovery.xsd\"><csw:Query typeNames=\"gmd:MD_Metadata\"><csw:ElementSetName>full</csw:ElementSetName><csw:Constraint version=\"1.1.0\"><ogc:Filter><ogc:And><ogc:PropertyIsLike wildCard=\"*\" singleChar=\"_\" escapeChar=\"\\\"><ogc:PropertyName>csw:AnyText</ogc:PropertyName><ogc:Literal>*PER-T500*</ogc:Literal></ogc:PropertyIsLike><ogc:PropertyIsEqualTo><ogc:PropertyName>dc:type</ogc:PropertyName><ogc:Literal>dataset</ogc:Literal></ogc:PropertyIsEqualTo></ogc:And></ogc:Filter></csw:Constraint></csw:Query></csw:GetRecords>\n",
        " ---- \n",
        "http://cic-pem.cicese.mx:8080/thredds/dodsC/ANCLAJES/CNK30/PER-T500-CNK30/MCTS/PER-T500-MCT-NS6224-Z490-INS27-REC30.nc\n",
        "http://cic-pem.cicese.mx:8080/thredds/dodsC/ANCLAJES/CNK30/PER-T500-CNK30/MCTS/PER-T500-MCT-NS7722-Z156-INS27-REC30.nc\n",
        "http://cic-pem.cicese.mx:8080/thredds/dodsC/ANCLAJES/CNK30/PER-T500-CNK30/MCTS/PER-T500-MCT-NS6166-Z103-INS27-REC30.nc\n",
        "http://cic-pem.cicese.mx:8080/thredds/dodsC/ANCLAJES/CNK30/PER-T500-CNK30/MCTS/PER-T500-MCT-NS6230-Z408-INS27-REC30.nc\n",
        "http://cic-pem.cicese.mx:8080/thredds/dodsC/ANCLAJES/CNK30/PER-T500-CNK30/ADCPS/PER-T500-LR75DW-NS11135-Z103-INS27-REC30.nc\n",
        "http://cic-pem.cicese.mx:8080/thredds/dodsC/ANCLAJES/CNK30/PER-T500-CNK30/ADCPS/PER-T500-LR75DW-NS11135-Z103-INS27-REC30.nc\n",
        "http://cic-pem.cicese.mx:8080/thredds/dodsC/ANCLAJES/CNK30/PER-T500-CNK30/ADCPS/PER-T500-LR75DW-NS11135-Z103-INS27-REC30.nc\n",
        "http://cic-pem.cicese.mx:8080/thredds/dodsC/ANCLAJES/CNK30/PER-T500-CNK30/ADCPS/PER-T500-LR75DW-NS11135-Z103-INS27-REC30.nc\n",
        "http://cic-pem.cicese.mx:8080/thredds/dodsC/ANCLAJES/CNK30/PER-T500-CNK30/ADCPS/PER-T500-WH300UP-NS10928-Z103-INS27-REC30.nc\n",
        "http://cic-pem.cicese.mx:8080/thredds/dodsC/ANCLAJES/CNK30/PER-T500-CNK30/ADCPS/PER-T500-WH300UP-NS10928-Z103-INS27-REC30.nc"
       ]
      },
      {
       "output_type": "stream",
       "stream": "stdout",
       "text": [
        "\n"
       ]
      },
      {
       "output_type": "stream",
       "stream": "stderr",
       "text": [
        "C:\\Python27\\lib\\site-packages\\owslib-0.8_dev-py2.7.egg\\owslib\\csw.py:196: UserWarning: Please use the updated 'getrecords2' method instead of 'getrecords'.  \n",
        "        The 'getrecords' method will be upgraded to use the 'getrecords2' parameters\n",
        "        in a future version of OWSLib.\n",
        "  in a future version of OWSLib.\"\"\")\n"
       ]
      }
     ],
     "prompt_number": 10
    },
    {
     "cell_type": "code",
     "collapsed": true,
     "input": [
      "endpoint = 'http://cic-pem.cicese.mx:8080/gi-cat/services/cswiso?'\n",
      "csw = CatalogueServiceWeb(endpoint,timeout=50)\n",
      "# CQL Not working in any method!! :(\n",
      "cqlQuery = \"csw:AnyText Like '*PER-T500*' and dc:type = 'dataset'\"\n",
      "csw.getrecords(cql=cqlQuery, outputschema=\"http://www.isotc211.org/2005/gmd/\",typenames='gmd:MD_Metadata',esn='full',maxrecords=10)\n",
      "print csw.results\n",
      "print csw.request\n",
      "#for rec in csw.records:\n",
      "#     print dir(csw.records[rec])\n",
      "print ' ---- '\n",
      "dapUrls = []\n",
      "from xml.dom import minidom\n",
      "\n",
      "for rec in csw.records:\n",
      "     xmldoc = minidom.parseString(csw.records[rec].xml)\n",
      "     itemlist = xmldoc.getElementsByTagName('gmd:URL')\n",
      "     dapUrls.append(itemlist[0].childNodes[0].nodeValue)\n",
      "\n",
      "print '\\n'.join(dapUrls)"
     ],
     "language": "python",
     "metadata": {},
     "outputs": [
      {
       "ename": "IndexError",
       "evalue": "list index out of range",
       "output_type": "pyerr",
       "traceback": [
        "\u001b[1;31m---------------------------------------------------------------------------\u001b[0m\n\u001b[1;31mIndexError\u001b[0m                                Traceback (most recent call last)",
        "\u001b[1;32m<ipython-input-207-6c8699527c01>\u001b[0m in \u001b[0;36m<module>\u001b[1;34m()\u001b[0m\n\u001b[0;32m      1\u001b[0m \u001b[0mendpoint\u001b[0m \u001b[1;33m=\u001b[0m \u001b[1;34m'http://cic-pem.cicese.mx:8080/gi-cat/services/cswiso?'\u001b[0m\u001b[1;33m\u001b[0m\u001b[0m\n\u001b[0;32m      2\u001b[0m \u001b[0mcsw\u001b[0m \u001b[1;33m=\u001b[0m \u001b[0mCatalogueServiceWeb\u001b[0m\u001b[1;33m(\u001b[0m\u001b[0mendpoint\u001b[0m\u001b[1;33m,\u001b[0m\u001b[0mtimeout\u001b[0m\u001b[1;33m=\u001b[0m\u001b[1;36m50\u001b[0m\u001b[1;33m)\u001b[0m\u001b[1;33m\u001b[0m\u001b[0m\n\u001b[1;32m----> 3\u001b[1;33m \u001b[0mcsw\u001b[0m\u001b[1;33m.\u001b[0m\u001b[0mgetrecords\u001b[0m\u001b[1;33m(\u001b[0m\u001b[0mcql\u001b[0m\u001b[1;33m=\u001b[0m\u001b[1;34m\"csw:AnyText Like '*PER-T500*' and dc:type = 'dataset'\"\u001b[0m\u001b[1;33m,\u001b[0m\u001b[0moutputschema\u001b[0m\u001b[1;33m=\u001b[0m\u001b[1;34m\"http://www.isotc211.org/2005/gmd\"\u001b[0m\u001b[1;33m,\u001b[0m\u001b[0mtypenames\u001b[0m\u001b[1;33m=\u001b[0m\u001b[1;34m'gmd:MD_Metadata'\u001b[0m\u001b[1;33m,\u001b[0m\u001b[0mesn\u001b[0m\u001b[1;33m=\u001b[0m\u001b[1;34m'full'\u001b[0m\u001b[1;33m,\u001b[0m\u001b[0mmaxrecords\u001b[0m\u001b[1;33m=\u001b[0m\u001b[1;36m10\u001b[0m\u001b[1;33m)\u001b[0m\u001b[1;33m\u001b[0m\u001b[0m\n\u001b[0m\u001b[0;32m      4\u001b[0m \u001b[1;32mprint\u001b[0m \u001b[0mcsw\u001b[0m\u001b[1;33m.\u001b[0m\u001b[0mresults\u001b[0m\u001b[1;33m\u001b[0m\u001b[0m\n\u001b[0;32m      5\u001b[0m \u001b[1;32mprint\u001b[0m \u001b[0mcsw\u001b[0m\u001b[1;33m.\u001b[0m\u001b[0mrequest\u001b[0m\u001b[1;33m\u001b[0m\u001b[0m\n",
        "\u001b[1;32mC:\\Python27\\lib\\site-packages\\owslib-0.8.7-py2.7.egg\\owslib\\csw.pyc\u001b[0m in \u001b[0;36mgetrecords\u001b[1;34m(self, qtype, keywords, typenames, propertyname, bbox, esn, sortby, outputschema, format, startposition, maxrecords, cql, xml, resulttype)\u001b[0m\n\u001b[0;32m    240\u001b[0m             \u001b[0mself\u001b[0m\u001b[1;33m.\u001b[0m\u001b[0mrecords\u001b[0m \u001b[1;33m=\u001b[0m \u001b[0mOrderedDict\u001b[0m\u001b[1;33m(\u001b[0m\u001b[1;33m)\u001b[0m\u001b[1;33m\u001b[0m\u001b[0m\n\u001b[0;32m    241\u001b[0m \u001b[1;33m\u001b[0m\u001b[0m\n\u001b[1;32m--> 242\u001b[1;33m             \u001b[0mself\u001b[0m\u001b[1;33m.\u001b[0m\u001b[0m_parserecords\u001b[0m\u001b[1;33m(\u001b[0m\u001b[0moutputschema\u001b[0m\u001b[1;33m,\u001b[0m \u001b[0mesn\u001b[0m\u001b[1;33m)\u001b[0m\u001b[1;33m\u001b[0m\u001b[0m\n\u001b[0m\u001b[0;32m    243\u001b[0m \u001b[1;33m\u001b[0m\u001b[0m\n\u001b[0;32m    244\u001b[0m     \u001b[1;32mdef\u001b[0m \u001b[0mgetrecordbyid\u001b[0m\u001b[1;33m(\u001b[0m\u001b[0mself\u001b[0m\u001b[1;33m,\u001b[0m \u001b[0mid\u001b[0m\u001b[1;33m=\u001b[0m\u001b[1;33m[\u001b[0m\u001b[1;33m]\u001b[0m\u001b[1;33m,\u001b[0m \u001b[0mesn\u001b[0m\u001b[1;33m=\u001b[0m\u001b[1;34m'full'\u001b[0m\u001b[1;33m,\u001b[0m \u001b[0moutputschema\u001b[0m\u001b[1;33m=\u001b[0m\u001b[0mnamespaces\u001b[0m\u001b[1;33m[\u001b[0m\u001b[1;34m'csw'\u001b[0m\u001b[1;33m]\u001b[0m\u001b[1;33m,\u001b[0m \u001b[0mformat\u001b[0m\u001b[1;33m=\u001b[0m\u001b[0moutputformat\u001b[0m\u001b[1;33m)\u001b[0m\u001b[1;33m:\u001b[0m\u001b[1;33m\u001b[0m\u001b[0m\n",
        "\u001b[1;32mC:\\Python27\\lib\\site-packages\\owslib-0.8.7-py2.7.egg\\owslib\\csw.pyc\u001b[0m in \u001b[0;36m_parserecords\u001b[1;34m(self, outputschema, esn)\u001b[0m\n\u001b[0;32m    515\u001b[0m                 \u001b[0mval\u001b[0m \u001b[1;33m=\u001b[0m \u001b[0mi\u001b[0m\u001b[1;33m.\u001b[0m\u001b[0mfind\u001b[0m\u001b[1;33m(\u001b[0m\u001b[0mutil\u001b[0m\u001b[1;33m.\u001b[0m\u001b[0mnspath_eval\u001b[0m\u001b[1;33m(\u001b[0m\u001b[1;34m'gmd:fileIdentifier/gco:CharacterString'\u001b[0m\u001b[1;33m,\u001b[0m \u001b[0mnamespaces\u001b[0m\u001b[1;33m)\u001b[0m\u001b[1;33m)\u001b[0m\u001b[1;33m\u001b[0m\u001b[0m\n\u001b[0;32m    516\u001b[0m                 \u001b[0midentifier\u001b[0m \u001b[1;33m=\u001b[0m \u001b[0mself\u001b[0m\u001b[1;33m.\u001b[0m\u001b[0m_setidentifierkey\u001b[0m\u001b[1;33m(\u001b[0m\u001b[0mutil\u001b[0m\u001b[1;33m.\u001b[0m\u001b[0mtestXMLValue\u001b[0m\u001b[1;33m(\u001b[0m\u001b[0mval\u001b[0m\u001b[1;33m)\u001b[0m\u001b[1;33m)\u001b[0m\u001b[1;33m\u001b[0m\u001b[0m\n\u001b[1;32m--> 517\u001b[1;33m                 \u001b[0mself\u001b[0m\u001b[1;33m.\u001b[0m\u001b[0mrecords\u001b[0m\u001b[1;33m[\u001b[0m\u001b[0midentifier\u001b[0m\u001b[1;33m]\u001b[0m \u001b[1;33m=\u001b[0m \u001b[0mMD_Metadata\u001b[0m\u001b[1;33m(\u001b[0m\u001b[0mi\u001b[0m\u001b[1;33m)\u001b[0m\u001b[1;33m\u001b[0m\u001b[0m\n\u001b[0m\u001b[0;32m    518\u001b[0m         \u001b[1;32melif\u001b[0m \u001b[0moutputschema\u001b[0m \u001b[1;33m==\u001b[0m \u001b[0mnamespaces\u001b[0m\u001b[1;33m[\u001b[0m\u001b[1;34m'fgdc'\u001b[0m\u001b[1;33m]\u001b[0m\u001b[1;33m:\u001b[0m \u001b[1;31m# fgdc csdgm\u001b[0m\u001b[1;33m\u001b[0m\u001b[0m\n\u001b[0;32m    519\u001b[0m             \u001b[1;32mfor\u001b[0m \u001b[0mi\u001b[0m \u001b[1;32min\u001b[0m \u001b[0mself\u001b[0m\u001b[1;33m.\u001b[0m\u001b[0m_exml\u001b[0m\u001b[1;33m.\u001b[0m\u001b[0mfindall\u001b[0m\u001b[1;33m(\u001b[0m\u001b[1;34m'.//metadata'\u001b[0m\u001b[1;33m)\u001b[0m\u001b[1;33m:\u001b[0m\u001b[1;33m\u001b[0m\u001b[0m\n",
        "\u001b[1;32mC:\\Python27\\lib\\site-packages\\owslib-0.8.7-py2.7.egg\\owslib\\iso.pyc\u001b[0m in \u001b[0;36m__init__\u001b[1;34m(self, md)\u001b[0m\n\u001b[0;32m    102\u001b[0m         \u001b[0mself\u001b[0m\u001b[1;33m.\u001b[0m\u001b[0midentificationinfo\u001b[0m \u001b[1;33m=\u001b[0m \u001b[1;33m[\u001b[0m\u001b[1;33m]\u001b[0m\u001b[1;33m\u001b[0m\u001b[0m\n\u001b[0;32m    103\u001b[0m         \u001b[1;32mfor\u001b[0m \u001b[0midinfo\u001b[0m \u001b[1;32min\u001b[0m \u001b[0mmd\u001b[0m\u001b[1;33m.\u001b[0m\u001b[0mfindall\u001b[0m\u001b[1;33m(\u001b[0m\u001b[0mutil\u001b[0m\u001b[1;33m.\u001b[0m\u001b[0mnspath_eval\u001b[0m\u001b[1;33m(\u001b[0m\u001b[1;34m'gmd:identificationInfo'\u001b[0m\u001b[1;33m,\u001b[0m \u001b[0mnamespaces\u001b[0m\u001b[1;33m)\u001b[0m\u001b[1;33m)\u001b[0m\u001b[1;33m:\u001b[0m\u001b[1;33m\u001b[0m\u001b[0m\n\u001b[1;32m--> 104\u001b[1;33m             \u001b[0mval\u001b[0m \u001b[1;33m=\u001b[0m \u001b[0mlist\u001b[0m\u001b[1;33m(\u001b[0m\u001b[0midinfo\u001b[0m\u001b[1;33m)\u001b[0m\u001b[1;33m[\u001b[0m\u001b[1;36m0\u001b[0m\u001b[1;33m]\u001b[0m\u001b[1;33m\u001b[0m\u001b[0m\n\u001b[0m\u001b[0;32m    105\u001b[0m             \u001b[0mtagval\u001b[0m \u001b[1;33m=\u001b[0m \u001b[0mutil\u001b[0m\u001b[1;33m.\u001b[0m\u001b[0mxmltag_split\u001b[0m\u001b[1;33m(\u001b[0m\u001b[0mval\u001b[0m\u001b[1;33m.\u001b[0m\u001b[0mtag\u001b[0m\u001b[1;33m)\u001b[0m\u001b[1;33m\u001b[0m\u001b[0m\n\u001b[0;32m    106\u001b[0m             \u001b[1;32mif\u001b[0m \u001b[0mtagval\u001b[0m \u001b[1;33m==\u001b[0m \u001b[1;34m'MD_DataIdentification'\u001b[0m\u001b[1;33m:\u001b[0m\u001b[1;33m\u001b[0m\u001b[0m\n",
        "\u001b[1;31mIndexError\u001b[0m: list index out of range"
       ]
      }
     ],
     "prompt_number": 207
    },
    {
     "cell_type": "code",
     "collapsed": false,
     "input": [],
     "language": "python",
     "metadata": {},
     "outputs": []
    }
   ],
   "metadata": {}
  }
 ]
}