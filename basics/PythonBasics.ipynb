{
 "metadata": {
  "name": "",
  "signature": "sha256:fd49f6258c0b50bd20b12840a35fd928af9f5ec9ae5e3cad05170f8ea21c19a3"
 },
 "nbformat": 3,
 "nbformat_minor": 0,
 "worksheets": [
  {
   "cells": [
    {
     "cell_type": "markdown",
     "metadata": {},
     "source": [
      "# Python - conceptos basicos  \n",
      "### Obteniendo ayuda en el interprete de python"
     ]
    },
    {
     "cell_type": "code",
     "collapsed": false,
     "input": [
      "# Comando help, muestra la documentacion de algun objeto.\n",
      "help(5)"
     ],
     "language": "python",
     "metadata": {},
     "outputs": []
    },
    {
     "cell_type": "code",
     "collapsed": false,
     "input": [
      "# Comando dir, muestra los atributos y metodos de un objeto.\n",
      "dir(5)"
     ],
     "language": "python",
     "metadata": {},
     "outputs": []
    },
    {
     "cell_type": "code",
     "collapsed": false,
     "input": [
      "# Mostrar en pantalla la cadena de documentacion de algun objeto.\n",
      "print len.__doc__"
     ],
     "language": "python",
     "metadata": {},
     "outputs": []
    },
    {
     "cell_type": "markdown",
     "metadata": {},
     "source": [
      "### Sintaxis\n",
      "Python no cuenta con un caracter de terminacion de comando, caracteres y bloques son especificados por **\"identacion\"**.\n",
      "Idente para empezar un bloque y descienda para terminarlo. "
     ]
    },
    {
     "cell_type": "code",
     "collapsed": false,
     "input": [
      "mivar = 3 \n",
      "mivar += 2\n",
      "mivar"
     ],
     "language": "python",
     "metadata": {},
     "outputs": [
      {
       "metadata": {},
       "output_type": "pyout",
       "prompt_number": 5,
       "text": [
        "5"
       ]
      }
     ],
     "prompt_number": 5
    },
    {
     "cell_type": "code",
     "collapsed": false,
     "input": [
      "mivar -= 1\n",
      "mivar"
     ],
     "language": "python",
     "metadata": {},
     "outputs": [
      {
       "metadata": {},
       "output_type": "pyout",
       "prompt_number": 6,
       "text": [
        "4"
       ]
      }
     ],
     "prompt_number": 6
    },
    {
     "cell_type": "code",
     "collapsed": false,
     "input": [
      "micadena = \"Hola\"\n",
      "micadena += \" Mundo\"\n",
      "print micadena"
     ],
     "language": "python",
     "metadata": {},
     "outputs": [
      {
       "output_type": "stream",
       "stream": "stdout",
       "text": [
        "Hola Mundo\n"
       ]
      }
     ],
     "prompt_number": 7
    },
    {
     "cell_type": "code",
     "collapsed": false,
     "input": [
      "# Intercambia contenido de variables en una linea\n",
      "mivar, micadena = micadena, mivar\n",
      "print mivar, micadena"
     ],
     "language": "python",
     "metadata": {},
     "outputs": [
      {
       "output_type": "stream",
       "stream": "stdout",
       "text": [
        "Hola Mundo 4\n"
       ]
      }
     ],
     "prompt_number": 10
    },
    {
     "cell_type": "markdown",
     "metadata": {},
     "source": [
      "### Tipos de datos\n",
      "Las estruturas de datos disponibles en python son listas, tuples y diccionarios.\n",
      "\n",
      "**Las listas** es algo como arreglos unidimensionales (Aunque es posible tener listas de listas). <br>\n",
      "**Los diccionarios** son arreglos asociados (tambien llamados tablas hash).<br>\n",
      "**Los tuples** son arreglos unidimensionales inmutables (una vez que se definen no cambian sus valores)<br>\n",
      "\n",
      "Los \"arreglos\" de python pueden ser de cualquier tipo, se puede combinar enteros, cadenas, listas/tuples/diccionarios.\n",
      "El primeri indice de un arreglo en python es 0, numeros negativos cuentan del final de la lista al inicio."
     ]
    },
    {
     "cell_type": "code",
     "collapsed": false,
     "input": [
      "listaejemplo = [1, [\"otra\", \"lista\"], (\"a\", \"tuple\")]\n",
      "milista = [\"elemento lista 1\", 2, 3.14]\n",
      "milista[0] = \"elemento lista 1 de nuevo\" # Modificamos el contenido del elemento 0\n",
      "milista[-1] = 3.21 # Aqui, nos referimos al ultimo elemento de la lista\n",
      "midict = {\"llave 1\": \"Valor 1\", 2: 3, \"pi\": 3.14}\n",
      "midict[\"pi\"] = 3.15 # Asi se cambia un valor en un diccionario\n",
      "mituple = (1, 2, 3)\n",
      "\n",
      "print \"milista : \" + str(milista)\n",
      "print \"midict  : \" + str(midict)\n",
      "print \"mituple : \" + str(mituple)"
     ],
     "language": "python",
     "metadata": {},
     "outputs": [
      {
       "output_type": "stream",
       "stream": "stdout",
       "text": [
        "milista : ['elemento lista 1 de nuevo', 2, 3.21]\n",
        "midict  : {2: 3, 'pi': 3.15, 'llave 1': 'Valor 1'}\n",
        "mituple : (1, 2, 3)\n"
       ]
      }
     ],
     "prompt_number": 17
    },
    {
     "cell_type": "markdown",
     "metadata": {},
     "source": [
      "####Rangos"
     ]
    },
    {
     "cell_type": "code",
     "collapsed": false,
     "input": [
      "print milista[:]"
     ],
     "language": "python",
     "metadata": {},
     "outputs": [
      {
       "output_type": "stream",
       "stream": "stdout",
       "text": [
        "['elemento lista 1 de nuevo', 2, 3.21]\n"
       ]
      }
     ],
     "prompt_number": 18
    },
    {
     "cell_type": "code",
     "collapsed": false,
     "input": [
      "print milista[0:2]"
     ],
     "language": "python",
     "metadata": {},
     "outputs": [
      {
       "output_type": "stream",
       "stream": "stdout",
       "text": [
        "['elemento lista 1 de nuevo', 2]\n"
       ]
      }
     ],
     "prompt_number": 19
    },
    {
     "cell_type": "code",
     "collapsed": false,
     "input": [
      "print milista[0:4:2]"
     ],
     "language": "python",
     "metadata": {},
     "outputs": [
      {
       "output_type": "stream",
       "stream": "stdout",
       "text": [
        "['elemento lista 1 de nuevo', 3.21]\n"
       ]
      }
     ],
     "prompt_number": 21
    },
    {
     "cell_type": "markdown",
     "metadata": {},
     "source": [
      "### Cadenas\n"
     ]
    },
    {
     "cell_type": "code",
     "collapsed": false,
     "input": [
      "micadena = \"Hola mundo\"\n",
      "\n",
      "micadena = \"\"\" Esta es una \n",
      "cadena con\n",
      "multiples lineas \"\"\" \n",
      "\n",
      "# Salidas formateadas\n",
      "\n",
      "print \"Saluda con formato: %s %0.2f\" % (\"numero\",2.90773)\n",
      "\n",
      "print \"Esto %(verbo)s una %(sust)s\" % {\"sust\" : \"prueba\" , \"verbo\" : \"es\"} \n"
     ],
     "language": "python",
     "metadata": {},
     "outputs": [
      {
       "output_type": "stream",
       "stream": "stdout",
       "text": [
        "Saluda con formato: numero 2.91\n",
        "Esto es una prueba\n"
       ]
      }
     ],
     "prompt_number": 25
    },
    {
     "cell_type": "markdown",
     "metadata": {},
     "source": [
      "### Sentencias de control de flujos\n",
      "Las sentencias para controlar flujos son: **`if`**, **`for`** y **`while`**, no existe el **`select case`**, en su lugar use **`if`**'s anidados.<br>\n",
      "Use **`for`** para recorrer los elementos de una lista. <br>\n",
      "Para obtener una lista de numeros, use **`range(<numero>)`**"
     ]
    },
    {
     "cell_type": "code",
     "collapsed": false,
     "input": [
      "listarangos = range(10)\n",
      "print listarangos"
     ],
     "language": "python",
     "metadata": {},
     "outputs": [
      {
       "output_type": "stream",
       "stream": "stdout",
       "text": [
        "[0, 1, 2, 3, 4, 5, 6, 7, 8, 9]\n"
       ]
      }
     ],
     "prompt_number": 26
    },
    {
     "cell_type": "code",
     "collapsed": false,
     "input": [
      "for numero in listarangos:\n",
      "    # Varificar si el numero impar\n",
      "    if numero % 2: \n",
      "        print numero        "
     ],
     "language": "python",
     "metadata": {},
     "outputs": [
      {
       "output_type": "stream",
       "stream": "stdout",
       "text": [
        "1\n",
        "3\n",
        "5\n",
        "7\n",
        "9\n"
       ]
      }
     ],
     "prompt_number": 31
    },
    {
     "cell_type": "code",
     "collapsed": false,
     "input": [
      "animales = ['gato','perro','mono']\n",
      "# Acceder al numero de indice dentro del cuerpo del ciclo, con la sentencia enumerate\n",
      "for idx,animal in enumerate(animales):\n",
      "    print \"#%d: %s\" % (idx,animal)"
     ],
     "language": "python",
     "metadata": {},
     "outputs": [
      {
       "output_type": "stream",
       "stream": "stdout",
       "text": [
        "#0: gato\n",
        "#1: perro\n",
        "#2: mono\n"
       ]
      }
     ],
     "prompt_number": 34
    },
    {
     "cell_type": "code",
     "collapsed": false,
     "input": [
      "# ciclos Inline \n",
      "nums = [0, 1, 2, 3, 4]\n",
      "cuadrados = [x ** 2 for x in nums]\n",
      "print cuadrados  "
     ],
     "language": "python",
     "metadata": {},
     "outputs": [
      {
       "output_type": "stream",
       "stream": "stdout",
       "text": [
        "[0, 1, 4, 9, 16]\n"
       ]
      }
     ],
     "prompt_number": 36
    },
    {
     "cell_type": "code",
     "collapsed": false,
     "input": [
      "# ciclos inline con condicion , agregar a la lista solo los numeros pares\n",
      "nums = [0, 1, 2, 3, 4]\n",
      "cuadrados = [x ** 2 for x in nums if x % 2 ==0]\n",
      "print cuadrados  "
     ],
     "language": "python",
     "metadata": {},
     "outputs": [
      {
       "output_type": "stream",
       "stream": "stdout",
       "text": [
        "[0, 4, 16]\n"
       ]
      }
     ],
     "prompt_number": 37
    },
    {
     "cell_type": "markdown",
     "metadata": {},
     "source": [
      "---\n",
      "Las sentencias **break y continue** pueden ser usados dentro de estos bloques.<br>\n",
      "`break` termina la ejecucion del ciclo.<br>\n",
      "`continue`, vuelve al inicio del ciclo para la siguiente iteracion.<br>\n",
      "\n",
      "---"
     ]
    },
    {
     "cell_type": "code",
     "collapsed": false,
     "input": [
      "# Ciclos while\n",
      "cuenta = 0\n",
      "while (cuenta < 9):\n",
      "    print \"cuenta \" , cuenta\n",
      "    cuenta += 1 "
     ],
     "language": "python",
     "metadata": {},
     "outputs": [
      {
       "output_type": "stream",
       "stream": "stdout",
       "text": [
        "cuenta  0\n",
        "cuenta  1\n",
        "cuenta  2\n",
        "cuenta  3\n",
        "cuenta  4\n",
        "cuenta  5\n",
        "cuenta  6\n",
        "cuenta  7\n",
        "cuenta  8\n"
       ]
      }
     ],
     "prompt_number": 38
    },
    {
     "cell_type": "markdown",
     "metadata": {},
     "source": [
      "### Funciones\n",
      "Las funciones son declarados con la palabra clave **`def`** . Los argumentos opcionales pueden ser definidos, despues de los argumentos obligatorios.<br>\n"
     ]
    },
    {
     "cell_type": "code",
     "collapsed": false,
     "input": [
      "# Igual a: def funcsimple(x): return x + 1\n",
      "funcsimple = lambda x: x + 1 \n",
      "print funcsimple(4)"
     ],
     "language": "python",
     "metadata": {},
     "outputs": [
      {
       "output_type": "stream",
       "stream": "stdout",
       "text": [
        "5\n"
       ]
      }
     ],
     "prompt_number": 39
    },
    {
     "cell_type": "code",
     "collapsed": false,
     "input": [
      "# un argumento enero y una cadena son opcionales, tienen valores default\n",
      "# Los argumentos se pasan por REFERENCIA, pero tipos de datos inmutables no son modificados (tuples,ints,cadenas,etc)\n",
      "def argumentos_ej(a_list, an_int=2, a_string=\"default string\"):\n",
      "    a_list.append(\"nuevo elemento\")\n",
      "    an_int = 4\n",
      "    return a_list, an_int, a_string\n",
      "\n",
      "milista = [1,2,3]\n",
      "miint = 10\n",
      "print argumentos_ej(milista,miint)\n",
      "\n",
      "# La lista es modificada por la funcion argumentos_ej\n",
      "print milista\n",
      "# Tipo de dato inmutable no es modificado por la funcion\n",
      "print miint"
     ],
     "language": "python",
     "metadata": {},
     "outputs": [
      {
       "output_type": "stream",
       "stream": "stdout",
       "text": [
        "([1, 2, 3, 'nuevo elemento'], 4, 'default string')\n",
        "[1, 2, 3, 'nuevo elemento']\n",
        "10\n"
       ]
      }
     ],
     "prompt_number": 43
    },
    {
     "cell_type": "code",
     "collapsed": false,
     "input": [],
     "language": "python",
     "metadata": {},
     "outputs": []
    }
   ],
   "metadata": {}
  }
 ]
}