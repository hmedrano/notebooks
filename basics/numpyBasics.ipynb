{
 "metadata": {
  "name": "",
  "signature": "sha256:b6b757d29196c573dd5eeef4a991d813e3864048f91198f2887fcbe2213832f7"
 },
 "nbformat": 3,
 "nbformat_minor": 0,
 "worksheets": [
  {
   "cells": [
    {
     "cell_type": "markdown",
     "metadata": {},
     "source": [
      "##Numpy Basics \n",
      "### Diferencias con la sintaxis de matlab\n",
      "----"
     ]
    },
    {
     "cell_type": "code",
     "collapsed": false,
     "input": [
      "# La convencion para el uso de NumPy\n",
      "import numpy as np"
     ],
     "language": "python",
     "metadata": {},
     "outputs": [],
     "prompt_number": 2
    },
    {
     "cell_type": "code",
     "collapsed": false,
     "input": [
      "# Creando un arreglo, a partir de una lista de python\n",
      "lista_python = [0,1,2,3] \n",
      "mi_array = np.array( lista_python )\n",
      "mi_array"
     ],
     "language": "python",
     "metadata": {},
     "outputs": [
      {
       "metadata": {},
       "output_type": "pyout",
       "prompt_number": 3,
       "text": [
        "array([0, 1, 2, 3])"
       ]
      }
     ],
     "prompt_number": 3
    },
    {
     "cell_type": "markdown",
     "metadata": {},
     "source": [
      "```matlab\n",
      "% En matlab\n",
      "mi_array = [0 1 2 3] ;\n",
      "```"
     ]
    },
    {
     "cell_type": "code",
     "collapsed": false,
     "input": [
      "mi_array = np.arange(0,10)\n",
      "mi_array"
     ],
     "language": "python",
     "metadata": {},
     "outputs": [
      {
       "metadata": {},
       "output_type": "pyout",
       "prompt_number": 6,
       "text": [
        "array([0, 1, 2, 3, 4, 5, 6, 7, 8, 9])"
       ]
      }
     ],
     "prompt_number": 6
    },
    {
     "cell_type": "code",
     "collapsed": false,
     "input": [
      "# Usando metodos de creacion de arreglos multidimensionales\n",
      "mi_array = np.zeros((3,3))\n",
      "mi_array"
     ],
     "language": "python",
     "metadata": {},
     "outputs": [
      {
       "metadata": {},
       "output_type": "pyout",
       "prompt_number": 5,
       "text": [
        "array([[ 0.,  0.,  0.],\n",
        "       [ 0.,  0.,  0.],\n",
        "       [ 0.,  0.,  0.]])"
       ]
      }
     ],
     "prompt_number": 5
    },
    {
     "cell_type": "code",
     "collapsed": false,
     "input": [
      "mi_array = np.identity(10)\n",
      "mi_array"
     ],
     "language": "python",
     "metadata": {},
     "outputs": [
      {
       "metadata": {},
       "output_type": "pyout",
       "prompt_number": 7,
       "text": [
        "array([[ 1.,  0.,  0.,  0.,  0.,  0.,  0.,  0.,  0.,  0.],\n",
        "       [ 0.,  1.,  0.,  0.,  0.,  0.,  0.,  0.,  0.,  0.],\n",
        "       [ 0.,  0.,  1.,  0.,  0.,  0.,  0.,  0.,  0.,  0.],\n",
        "       [ 0.,  0.,  0.,  1.,  0.,  0.,  0.,  0.,  0.,  0.],\n",
        "       [ 0.,  0.,  0.,  0.,  1.,  0.,  0.,  0.,  0.,  0.],\n",
        "       [ 0.,  0.,  0.,  0.,  0.,  1.,  0.,  0.,  0.,  0.],\n",
        "       [ 0.,  0.,  0.,  0.,  0.,  0.,  1.,  0.,  0.,  0.],\n",
        "       [ 0.,  0.,  0.,  0.,  0.,  0.,  0.,  1.,  0.,  0.],\n",
        "       [ 0.,  0.,  0.,  0.,  0.,  0.,  0.,  0.,  1.,  0.],\n",
        "       [ 0.,  0.,  0.,  0.,  0.,  0.,  0.,  0.,  0.,  1.]])"
       ]
      }
     ],
     "prompt_number": 7
    },
    {
     "cell_type": "markdown",
     "metadata": {},
     "source": [
      "El resto de los metodos para crear arreglos que ofrece numpy:<br>\n",
      "http://docs.scipy.org/doc/numpy/reference/routines.array-creation.html<br>\n",
      "\n",
      "----"
     ]
    },
    {
     "cell_type": "code",
     "collapsed": false,
     "input": [
      "# Que hay dentro del objeto mi_arreglo\n",
      "print 'Numero de elementos ' , mi_array.size\n",
      "print 'Forma dimensiones ' , mi_array.shape\n",
      "print 'Numero dimensiones ' , mi_array.ndim\n",
      "print 'Tipo de dato ' , mi_array.dtype\n",
      "\n",
      "#dir(mi_array)"
     ],
     "language": "python",
     "metadata": {},
     "outputs": [
      {
       "output_type": "stream",
       "stream": "stdout",
       "text": [
        "Numero de elementos  100\n",
        "Forma dimensiones  (10L, 10L)\n",
        "Numero dimensiones  2\n",
        "Tipo de dato  float64\n"
       ]
      }
     ],
     "prompt_number": 11
    },
    {
     "cell_type": "markdown",
     "metadata": {},
     "source": [
      "```matlab\n",
      "% En matlab\n",
      "numel(mi_array) \n",
      "size(mi_array)\n",
      "```"
     ]
    },
    {
     "cell_type": "markdown",
     "metadata": {},
     "source": [
      "### Visualizando la informacion\n",
      "- Ultimo eje se visualiza de izquieda a derecha\n",
      "- Penultimo eje se visualiza de arriba a abajo.\n",
      "- El resto tambien se muestran de arriba a abajo, donde cada bloque es separado del siguiente por una linea vacia."
     ]
    },
    {
     "cell_type": "code",
     "collapsed": false,
     "input": [
      "# arreglo 1D \n",
      "a = np.arange(6) \n",
      "print a"
     ],
     "language": "python",
     "metadata": {},
     "outputs": [
      {
       "output_type": "stream",
       "stream": "stdout",
       "text": [
        "[0 1 2 3 4 5]\n"
       ]
      }
     ],
     "prompt_number": 13
    },
    {
     "cell_type": "code",
     "collapsed": false,
     "input": [
      "# arreglo 2D\n",
      "b = np.arange(12).reshape(4,3)\n",
      "print b"
     ],
     "language": "python",
     "metadata": {},
     "outputs": [
      {
       "output_type": "stream",
       "stream": "stdout",
       "text": [
        "[[ 0  1  2]\n",
        " [ 3  4  5]\n",
        " [ 6  7  8]\n",
        " [ 9 10 11]]\n"
       ]
      }
     ],
     "prompt_number": 14
    },
    {
     "cell_type": "code",
     "collapsed": false,
     "input": [
      "# arrreglo 3D\n",
      "c = np.arange(24).reshape(2,3,4)\n",
      "print c"
     ],
     "language": "python",
     "metadata": {},
     "outputs": [
      {
       "output_type": "stream",
       "stream": "stdout",
       "text": [
        "[[[ 0  1  2  3]\n",
        "  [ 4  5  6  7]\n",
        "  [ 8  9 10 11]]\n",
        "\n",
        " [[12 13 14 15]\n",
        "  [16 17 18 19]\n",
        "  [20 21 22 23]]]\n"
       ]
      }
     ],
     "prompt_number": 15
    },
    {
     "cell_type": "markdown",
     "metadata": {},
     "source": [
      "### Las operaciones basicas\n",
      "Todas las operaciones aritmeticas sobre los arreglos de numpy se hacen elemento a elemento. Se genera un nuevo arreglo y se llena con el resultado"
     ]
    },
    {
     "cell_type": "code",
     "collapsed": false,
     "input": [
      "a = np.arange(4).reshape(2,2)\n",
      "b = np.ones((2,2))\n",
      "b = b + 1\n",
      "c = a * b \n",
      "print c "
     ],
     "language": "python",
     "metadata": {},
     "outputs": [
      {
       "output_type": "stream",
       "stream": "stdout",
       "text": [
        "[[ 0.  2.]\n",
        " [ 4.  6.]]\n"
       ]
      }
     ],
     "prompt_number": 27
    },
    {
     "cell_type": "markdown",
     "metadata": {},
     "source": [
      "```matlab\n",
      "% En matlab\n",
      ">> c = a .* b\n",
      "```"
     ]
    },
    {
     "cell_type": "code",
     "collapsed": false,
     "input": [
      "# El producto de matrices\n",
      "c = np.dot(a,b)\n",
      "print c"
     ],
     "language": "python",
     "metadata": {},
     "outputs": [
      {
       "output_type": "stream",
       "stream": "stdout",
       "text": [
        "[[  2.   2.]\n",
        " [ 10.  10.]]\n"
       ]
      }
     ],
     "prompt_number": 28
    },
    {
     "cell_type": "markdown",
     "metadata": {},
     "source": [
      "```matlab\n",
      "% En matlab \n",
      ">>> c = a * b\n",
      "```"
     ]
    },
    {
     "cell_type": "markdown",
     "metadata": {},
     "source": [
      "#### \"Broadcasting\"\n",
      "Describe el como se comportan los arreglos de numpy de diferenctes dimensiones durante las operaciones aritmeticas."
     ]
    },
    {
     "cell_type": "code",
     "collapsed": false,
     "input": [
      "# \"Broadcasting\" Operaciones sobre arreglos que no tienen la misma dimension, se repiten en los siguientes bloques\n",
      "a = np.arange(12).reshape(4,3)\n",
      "b = np.ones((3,))\n",
      "\n",
      "print a, '-', b \n",
      "a - b  "
     ],
     "language": "python",
     "metadata": {},
     "outputs": [
      {
       "output_type": "stream",
       "stream": "stdout",
       "text": [
        "[[ 0  1  2]\n",
        " [ 3  4  5]\n",
        " [ 6  7  8]\n",
        " [ 9 10 11]] - [ 1.  1.  1.]\n"
       ]
      },
      {
       "metadata": {},
       "output_type": "pyout",
       "prompt_number": 159,
       "text": [
        "array([[ -1.,   0.,   1.],\n",
        "       [  2.,   3.,   4.],\n",
        "       [  5.,   6.,   7.],\n",
        "       [  8.,   9.,  10.]])"
       ]
      }
     ],
     "prompt_number": 159
    },
    {
     "cell_type": "code",
     "collapsed": false,
     "input": [
      "# Otro ejemplo de \"broadcasting\"\n",
      "x = np.arange(4)\n",
      "xx = x.reshape(4,1)\n",
      "print 'x:', x.shape\n",
      "print 'xx:', xx.shape"
     ],
     "language": "python",
     "metadata": {},
     "outputs": [
      {
       "output_type": "stream",
       "stream": "stdout",
       "text": [
        " x: (4L,)\n",
        "xx: (4L, 1L)\n"
       ]
      }
     ],
     "prompt_number": 175
    },
    {
     "cell_type": "code",
     "collapsed": false,
     "input": [
      "y = np.ones(5)\n",
      "print y\n",
      "print x\n",
      "x + y # Generara un error pues las dimensiones no corresponden."
     ],
     "language": "python",
     "metadata": {},
     "outputs": [
      {
       "output_type": "stream",
       "stream": "stdout",
       "text": [
        "[ 1.  1.  1.  1.  1.]\n",
        "[0 1 2 3]\n"
       ]
      },
      {
       "ename": "ValueError",
       "evalue": "operands could not be broadcast together with shapes (4,) (5,) ",
       "output_type": "pyerr",
       "traceback": [
        "\u001b[1;31m---------------------------------------------------------------------------\u001b[0m\n\u001b[1;31mValueError\u001b[0m                                Traceback (most recent call last)",
        "\u001b[1;32m<ipython-input-177-ddc04c35fc0d>\u001b[0m in \u001b[0;36m<module>\u001b[1;34m()\u001b[0m\n\u001b[0;32m      2\u001b[0m \u001b[1;32mprint\u001b[0m \u001b[0my\u001b[0m\u001b[1;33m\u001b[0m\u001b[0m\n\u001b[0;32m      3\u001b[0m \u001b[1;32mprint\u001b[0m \u001b[0mx\u001b[0m\u001b[1;33m\u001b[0m\u001b[0m\n\u001b[1;32m----> 4\u001b[1;33m \u001b[0mx\u001b[0m \u001b[1;33m+\u001b[0m \u001b[0my\u001b[0m \u001b[1;31m# Generara un error pues las dimensiones no corresponden.\u001b[0m\u001b[1;33m\u001b[0m\u001b[0m\n\u001b[0m",
        "\u001b[1;31mValueError\u001b[0m: operands could not be broadcast together with shapes (4,) (5,) "
       ]
      }
     ],
     "prompt_number": 177
    },
    {
     "cell_type": "code",
     "collapsed": false,
     "input": [
      "# Regla del broadcasting dice que dos dimensiones son compatibles cuando: \n",
      "# - Son iguales.\n",
      "# - Una de ellas es uno.\n",
      "print xx\n",
      "print y\n",
      "xx + y "
     ],
     "language": "python",
     "metadata": {},
     "outputs": [
      {
       "output_type": "stream",
       "stream": "stdout",
       "text": [
        "[[0]\n",
        " [1]\n",
        " [2]\n",
        " [3]]\n",
        "[ 1.  1.  1.  1.  1.]\n"
       ]
      },
      {
       "metadata": {},
       "output_type": "pyout",
       "prompt_number": 180,
       "text": [
        "array([[ 1.,  1.,  1.,  1.,  1.],\n",
        "       [ 2.,  2.,  2.,  2.,  2.],\n",
        "       [ 3.,  3.,  3.,  3.,  3.],\n",
        "       [ 4.,  4.,  4.,  4.,  4.]])"
       ]
      }
     ],
     "prompt_number": 180
    },
    {
     "cell_type": "markdown",
     "metadata": {},
     "source": [
      "#### Metodos ya incluidos en la clase ndarray\n",
      "Muchos metodos ya se encuentran integrados en la clase *ndarray* de NumPy"
     ]
    },
    {
     "cell_type": "code",
     "collapsed": false,
     "input": [
      "a = np.random.random((2,3))\n",
      "a"
     ],
     "language": "python",
     "metadata": {},
     "outputs": [
      {
       "metadata": {},
       "output_type": "pyout",
       "prompt_number": 39,
       "text": [
        "array([[ 0.50851202,  0.80879651,  0.47969116],\n",
        "       [ 0.46402377,  0.92562115,  0.17183667]])"
       ]
      }
     ],
     "prompt_number": 39
    },
    {
     "cell_type": "code",
     "collapsed": false,
     "input": [
      "a.sum()"
     ],
     "language": "python",
     "metadata": {},
     "outputs": [
      {
       "metadata": {},
       "output_type": "pyout",
       "prompt_number": 40,
       "text": [
        "3.3584812790804053"
       ]
      }
     ],
     "prompt_number": 40
    },
    {
     "cell_type": "code",
     "collapsed": false,
     "input": [
      "a.min()"
     ],
     "language": "python",
     "metadata": {},
     "outputs": [
      {
       "metadata": {},
       "output_type": "pyout",
       "prompt_number": 41,
       "text": [
        "0.17183667457502849"
       ]
      }
     ],
     "prompt_number": 41
    },
    {
     "cell_type": "code",
     "collapsed": false,
     "input": [
      "a.max()"
     ],
     "language": "python",
     "metadata": {},
     "outputs": [
      {
       "metadata": {},
       "output_type": "pyout",
       "prompt_number": 42,
       "text": [
        "0.92562115024091374"
       ]
      }
     ],
     "prompt_number": 42
    },
    {
     "cell_type": "markdown",
     "metadata": {},
     "source": [
      "Por default estas operaciones se hacen sobre todos los elementos del arreglo, salvo que se especifiquen, que solo se desea hacer la operacion sobre algun eje en especifico."
     ]
    },
    {
     "cell_type": "code",
     "collapsed": false,
     "input": [
      "# La suma de cada columna\n",
      "a.sum(axis=0)"
     ],
     "language": "python",
     "metadata": {},
     "outputs": [
      {
       "metadata": {},
       "output_type": "pyout",
       "prompt_number": 43,
       "text": [
        "array([ 0.97253578,  1.73441766,  0.65152783])"
       ]
      }
     ],
     "prompt_number": 43
    },
    {
     "cell_type": "code",
     "collapsed": false,
     "input": [
      "# La suma de cada renglon\n",
      "a.sum(axis=1)"
     ],
     "language": "python",
     "metadata": {},
     "outputs": [
      {
       "metadata": {},
       "output_type": "pyout",
       "prompt_number": 44,
       "text": [
        "array([ 1.79699969,  1.56148159])"
       ]
      }
     ],
     "prompt_number": 44
    },
    {
     "cell_type": "code",
     "collapsed": false,
     "input": [
      "# La suma aculumativa sobre cada renglon\n",
      "b = np.arange(12).reshape(3,4)\n",
      "b.cumsum(axis=1)"
     ],
     "language": "python",
     "metadata": {},
     "outputs": [
      {
       "metadata": {},
       "output_type": "pyout",
       "prompt_number": 47,
       "text": [
        "array([[ 0,  1,  3,  6],\n",
        "       [ 4,  9, 15, 22],\n",
        "       [ 8, 17, 27, 38]])"
       ]
      }
     ],
     "prompt_number": 47
    },
    {
     "cell_type": "markdown",
     "metadata": {},
     "source": [
      "### Funciones universales\n",
      "Funciones matematicas que se realizan de elemento a elemento\n",
      "\n",
      "Listado: http://docs.scipy.org/doc/numpy/reference/ufuncs.html#math-operations\n"
     ]
    },
    {
     "cell_type": "code",
     "collapsed": false,
     "input": [
      "np.sqrt(b)"
     ],
     "language": "python",
     "metadata": {},
     "outputs": [
      {
       "metadata": {},
       "output_type": "pyout",
       "prompt_number": 51,
       "text": [
        "array([[ 0.        ,  1.        ,  1.41421356,  1.73205081],\n",
        "       [ 2.        ,  2.23606798,  2.44948974,  2.64575131],\n",
        "       [ 2.82842712,  3.        ,  3.16227766,  3.31662479]])"
       ]
      }
     ],
     "prompt_number": 51
    },
    {
     "cell_type": "code",
     "collapsed": false,
     "input": [
      "np.sin(b)"
     ],
     "language": "python",
     "metadata": {},
     "outputs": [
      {
       "metadata": {},
       "output_type": "pyout",
       "prompt_number": 52,
       "text": [
        "array([[ 0.        ,  0.84147098,  0.90929743,  0.14112001],\n",
        "       [-0.7568025 , -0.95892427, -0.2794155 ,  0.6569866 ],\n",
        "       [ 0.98935825,  0.41211849, -0.54402111, -0.99999021]])"
       ]
      }
     ],
     "prompt_number": 52
    },
    {
     "cell_type": "code",
     "collapsed": false,
     "input": [
      "c = np.array([2,2,2,2])\n",
      "np.add(b,c)"
     ],
     "language": "python",
     "metadata": {},
     "outputs": [
      {
       "metadata": {},
       "output_type": "pyout",
       "prompt_number": 53,
       "text": [
        "array([[ 2,  3,  4,  5],\n",
        "       [ 6,  7,  8,  9],\n",
        "       [10, 11, 12, 13]])"
       ]
      }
     ],
     "prompt_number": 53
    },
    {
     "cell_type": "markdown",
     "metadata": {},
     "source": [
      "###Seleccion de rangos, indexado e iteraciones\n",
      "- Arreglos 1D se pueden acceder por indices, recortar e iterar sobre sus elementos, como una lista de python.\n",
      "- Arreglos 2D, tienen un indice por eje, y estos indices se dan por un tipo de dato **tuple** \n",
      "- Arreglos multidimensionales tienen un indice por cada eje, de igual forma estan dados por un **tuple**"
     ]
    },
    {
     "cell_type": "code",
     "collapsed": false,
     "input": [
      "a = np.arange(10)**2\n",
      "a"
     ],
     "language": "python",
     "metadata": {},
     "outputs": [
      {
       "metadata": {},
       "output_type": "pyout",
       "prompt_number": 73,
       "text": [
        "array([ 0,  1,  4,  9, 16, 25, 36, 49, 64, 81])"
       ]
      }
     ],
     "prompt_number": 73
    },
    {
     "cell_type": "markdown",
     "metadata": {},
     "source": [
      "```matlab\n",
      "% En matlab\n",
      ">>> a = (0:9) .^ 2\n",
      "```"
     ]
    },
    {
     "cell_type": "code",
     "collapsed": false,
     "input": [
      "print a[2]\n",
      "print a[2:5]\n",
      "print a[0:-1:2]\n",
      "print a[np.ix_([2,4,6])]  # Elementos con indice 2 , 4 y 6"
     ],
     "language": "python",
     "metadata": {},
     "outputs": [
      {
       "output_type": "stream",
       "stream": "stdout",
       "text": [
        "4\n",
        "[ 4  9 16]\n",
        "[ 0  4 16 36 64]\n",
        "[ 4 16 36]\n"
       ]
      }
     ],
     "prompt_number": 74
    },
    {
     "cell_type": "markdown",
     "metadata": {},
     "source": [
      "```matlab\n",
      "% En matlab\n",
      ">>> a(3)\n",
      ">>> a(3:5)\n",
      ">>> a(1:2:end)\n",
      ">>> a([3,5,7])\n",
      "```"
     ]
    },
    {
     "cell_type": "code",
     "collapsed": false,
     "input": [
      "# Usando los mismos arreglos para referirnos a indices de otro arreglo.\n",
      "indices = np.array([5,8,1])\n",
      "a[indices]"
     ],
     "language": "python",
     "metadata": {},
     "outputs": [
      {
       "metadata": {},
       "output_type": "pyout",
       "prompt_number": 75,
       "text": [
        "array([25, 64,  1])"
       ]
      }
     ],
     "prompt_number": 75
    },
    {
     "cell_type": "code",
     "collapsed": false,
     "input": [
      "# Modificando datos sobre una region del arreglo.\n",
      "a[4:6] = -999\n",
      "a"
     ],
     "language": "python",
     "metadata": {},
     "outputs": [
      {
       "metadata": {},
       "output_type": "pyout",
       "prompt_number": 58,
       "text": [
        "array([   0,    1,    4,    9, -999, -999,   36,   49,   64,   81])"
       ]
      }
     ],
     "prompt_number": 58
    },
    {
     "cell_type": "code",
     "collapsed": false,
     "input": [
      "# Iterar sobre sus elementos.\n",
      "for el in a:\n",
      "    print el, ',',"
     ],
     "language": "python",
     "metadata": {},
     "outputs": [
      {
       "output_type": "stream",
       "stream": "stdout",
       "text": [
        "0 , 1 , 4 , 9 , -999 , -999 , 36 , 49 , 64 , 81 ,\n"
       ]
      }
     ],
     "prompt_number": 61
    },
    {
     "cell_type": "markdown",
     "metadata": {},
     "source": [
      "```matlab\n",
      "% En matlab\n",
      ">>> for idx = 1:numel(a)\n",
      "      a(idx)\n",
      "    end  \n",
      "```"
     ]
    },
    {
     "cell_type": "code",
     "collapsed": false,
     "input": [
      "# Arreglos multidimensionales\n",
      "\n",
      "# Equivalente a \n",
      "# def func(x,y):\n",
      "#   return 10 * x+y \n",
      "func = lambda x,y : 10*x+y \n",
      "\n",
      "b = np.fromfunction(func,(5,4))\n",
      "b"
     ],
     "language": "python",
     "metadata": {},
     "outputs": [
      {
       "metadata": {},
       "output_type": "pyout",
       "prompt_number": 69,
       "text": [
        "array([[  0.,   1.,   2.,   3.],\n",
        "       [ 10.,  11.,  12.,  13.],\n",
        "       [ 20.,  21.,  22.,  23.],\n",
        "       [ 30.,  31.,  32.,  33.],\n",
        "       [ 40.,  41.,  42.,  43.]])"
       ]
      }
     ],
     "prompt_number": 69
    },
    {
     "cell_type": "code",
     "collapsed": false,
     "input": [
      "# Segundo renglon\n",
      "b[1,:]"
     ],
     "language": "python",
     "metadata": {},
     "outputs": [
      {
       "metadata": {},
       "output_type": "pyout",
       "prompt_number": 71,
       "text": [
        "array([ 10.,  11.,  12.,  13.])"
       ]
      }
     ],
     "prompt_number": 71
    },
    {
     "cell_type": "markdown",
     "metadata": {},
     "source": [
      "```matlab\n",
      "% En matlab\n",
      ">>> b(2,:)\n",
      "```"
     ]
    },
    {
     "cell_type": "code",
     "collapsed": false,
     "input": [
      "# Ultima columna\n",
      "b[:,-1]"
     ],
     "language": "python",
     "metadata": {},
     "outputs": [
      {
       "metadata": {},
       "output_type": "pyout",
       "prompt_number": 72,
       "text": [
        "array([  3.,  13.,  23.,  33.,  43.])"
       ]
      }
     ],
     "prompt_number": 72
    },
    {
     "cell_type": "markdown",
     "metadata": {},
     "source": [
      "```matlab\n",
      "% En matlab\n",
      ">>> b(:,end)\n",
      "```"
     ]
    },
    {
     "cell_type": "code",
     "collapsed": false,
     "input": [
      "# Iterando sobre arreglos multidimensionales.\n",
      "for renglon in b:\n",
      "    print renglon , ',' "
     ],
     "language": "python",
     "metadata": {},
     "outputs": [
      {
       "output_type": "stream",
       "stream": "stdout",
       "text": [
        "[ 0.  1.  2.  3.] ,\n",
        "[ 10.  11.  12.  13.] ,\n",
        "[ 20.  21.  22.  23.] ,\n",
        "[ 30.  31.  32.  33.] ,\n",
        "[ 40.  41.  42.  43.] ,\n"
       ]
      }
     ],
     "prompt_number": 78
    },
    {
     "cell_type": "code",
     "collapsed": false,
     "input": [
      "# El atributo flat entrega el iterable de todos los elementos del arreglo\n",
      "for el in b.flat:\n",
      "    print el, ',',"
     ],
     "language": "python",
     "metadata": {},
     "outputs": [
      {
       "output_type": "stream",
       "stream": "stdout",
       "text": [
        "0.0 , 1.0 , 2.0 , 3.0 , 10.0 , 11.0 , 12.0 , 13.0 , 20.0 , 21.0 , 22.0 , 23.0 , 30.0 , 31.0 , 32.0 , 33.0 , 40.0 , 41.0 , 42.0 , 43.0 ,\n"
       ]
      }
     ],
     "prompt_number": 81
    },
    {
     "cell_type": "markdown",
     "metadata": {},
     "source": [
      "###Manipulando la forma de un arreglo"
     ]
    },
    {
     "cell_type": "code",
     "collapsed": false,
     "input": [
      "a = np.floor( np.random.random((3,4)) * 10 )\n",
      "a"
     ],
     "language": "python",
     "metadata": {},
     "outputs": [
      {
       "metadata": {},
       "output_type": "pyout",
       "prompt_number": 86,
       "text": [
        "array([[ 1.,  2.,  7.,  3.],\n",
        "       [ 5.,  7.,  2.,  5.],\n",
        "       [ 2.,  5.,  0.,  7.]])"
       ]
      }
     ],
     "prompt_number": 86
    },
    {
     "cell_type": "code",
     "collapsed": false,
     "input": [
      "a.shape"
     ],
     "language": "python",
     "metadata": {},
     "outputs": [
      {
       "metadata": {},
       "output_type": "pyout",
       "prompt_number": 87,
       "text": [
        "(3L, 4L)"
       ]
      }
     ],
     "prompt_number": 87
    },
    {
     "cell_type": "code",
     "collapsed": false,
     "input": [
      "# Aplanamos el arreglo, (Regresa referencias al arreglo original!)\n",
      "a.ravel()"
     ],
     "language": "python",
     "metadata": {},
     "outputs": [
      {
       "metadata": {},
       "output_type": "pyout",
       "prompt_number": 88,
       "text": [
        "array([ 1.,  2.,  7.,  3.,  5.,  7.,  2.,  5.,  2.,  5.,  0.,  7.])"
       ]
      }
     ],
     "prompt_number": 88
    },
    {
     "cell_type": "markdown",
     "metadata": {},
     "source": [
      "```matlab\n",
      "% En matlab\n",
      ">>> a(:)\n",
      "```"
     ]
    },
    {
     "cell_type": "code",
     "collapsed": false,
     "input": [
      "# arreglo a transpuesto\n",
      "a.transpose() # O tambien a.T"
     ],
     "language": "python",
     "metadata": {},
     "outputs": [
      {
       "metadata": {},
       "output_type": "pyout",
       "prompt_number": 90,
       "text": [
        "array([[ 1.,  5.,  2.],\n",
        "       [ 2.,  7.,  5.],\n",
        "       [ 7.,  2.,  0.],\n",
        "       [ 3.,  5.,  7.]])"
       ]
      }
     ],
     "prompt_number": 90
    },
    {
     "cell_type": "markdown",
     "metadata": {},
     "source": [
      "```matlab\n",
      "% En matlab\n",
      ">>> a.'\n",
      "```"
     ]
    },
    {
     "cell_type": "code",
     "collapsed": false,
     "input": [
      "# Modificamos la forma del arreglo con resize\n",
      "a.resize(6,2)\n",
      "a"
     ],
     "language": "python",
     "metadata": {},
     "outputs": [
      {
       "metadata": {},
       "output_type": "pyout",
       "prompt_number": 93,
       "text": [
        "array([[ 1.,  2.],\n",
        "       [ 7.,  3.],\n",
        "       [ 5.,  7.],\n",
        "       [ 2.,  5.],\n",
        "       [ 2.,  5.],\n",
        "       [ 0.,  7.]])"
       ]
      }
     ],
     "prompt_number": 93
    },
    {
     "cell_type": "code",
     "collapsed": false,
     "input": [
      "# reshape entrega un nuevo arreglo\n",
      "# Al incluir -1 en los parametros, dejamos que numpy calcule el tama\u00f1o adecuado\n",
      "a.reshape(-1,6)"
     ],
     "language": "python",
     "metadata": {},
     "outputs": [
      {
       "metadata": {},
       "output_type": "pyout",
       "prompt_number": 96,
       "text": [
        "array([[ 1.,  2.,  7.,  3.,  5.,  7.],\n",
        "       [ 2.,  5.,  2.,  5.,  0.,  7.]])"
       ]
      }
     ],
     "prompt_number": 96
    },
    {
     "cell_type": "markdown",
     "metadata": {},
     "source": [
      "### Concatenando arreglos"
     ]
    },
    {
     "cell_type": "code",
     "collapsed": false,
     "input": [
      "a = np.floor( 10 * np.random.random((2,2)) )\n",
      "b = np.floor( 10 * np.random.random((2,2)) )"
     ],
     "language": "python",
     "metadata": {},
     "outputs": [],
     "prompt_number": 105
    },
    {
     "cell_type": "code",
     "collapsed": false,
     "input": [
      "# Apilando los arreglos verticalemente\n",
      "np.vstack( (a,b) )"
     ],
     "language": "python",
     "metadata": {},
     "outputs": [
      {
       "metadata": {},
       "output_type": "pyout",
       "prompt_number": 106,
       "text": [
        "array([[ 8.,  8.],\n",
        "       [ 0.,  3.],\n",
        "       [ 8.,  1.],\n",
        "       [ 8.,  0.]])"
       ]
      }
     ],
     "prompt_number": 106
    },
    {
     "cell_type": "code",
     "collapsed": false,
     "input": [
      "# Apilando horizontalmente\n",
      "np.hstack((a,b))"
     ],
     "language": "python",
     "metadata": {},
     "outputs": [
      {
       "metadata": {},
       "output_type": "pyout",
       "prompt_number": 107,
       "text": [
        "array([[ 8.,  8.,  8.,  1.],\n",
        "       [ 0.,  3.,  8.,  0.]])"
       ]
      }
     ],
     "prompt_number": 107
    },
    {
     "cell_type": "markdown",
     "metadata": {},
     "source": [
      "```matlab\n",
      "% En matlab\n",
      ">>> [a b]\n",
      "```"
     ]
    },
    {
     "cell_type": "code",
     "collapsed": false,
     "input": [
      "# Un arreglo de 1D \n",
      "c = np.array([1,2,3,4,5,6])\n",
      "c"
     ],
     "language": "python",
     "metadata": {},
     "outputs": [
      {
       "metadata": {},
       "output_type": "pyout",
       "prompt_number": 115,
       "text": [
        "array([1, 2, 3, 4, 5, 6])"
       ]
      }
     ],
     "prompt_number": 115
    },
    {
     "cell_type": "code",
     "collapsed": false,
     "input": [
      "# Al agregar np.newaxis, creamos un arreglo 2D con los datos ordenados en la columna\n",
      "d = c[:,np.newaxis]\n",
      "d"
     ],
     "language": "python",
     "metadata": {},
     "outputs": [
      {
       "metadata": {},
       "output_type": "pyout",
       "prompt_number": 120,
       "text": [
        "array([[1],\n",
        "       [2],\n",
        "       [3],\n",
        "       [4],\n",
        "       [5],\n",
        "       [6]])"
       ]
      }
     ],
     "prompt_number": 120
    },
    {
     "cell_type": "markdown",
     "metadata": {},
     "source": [
      "```matlab\n",
      "% En matlab\n",
      ">>> [1:6]\n",
      "```"
     ]
    },
    {
     "cell_type": "code",
     "collapsed": false,
     "input": [
      "np.vstack((d,d))"
     ],
     "language": "python",
     "metadata": {},
     "outputs": [
      {
       "metadata": {},
       "output_type": "pyout",
       "prompt_number": 121,
       "text": [
        "array([[1],\n",
        "       [2],\n",
        "       [3],\n",
        "       [4],\n",
        "       [5],\n",
        "       [6],\n",
        "       [1],\n",
        "       [2],\n",
        "       [3],\n",
        "       [4],\n",
        "       [5],\n",
        "       [6]])"
       ]
      }
     ],
     "prompt_number": 121
    },
    {
     "cell_type": "code",
     "collapsed": false,
     "input": [
      "np.hstack((d,d,d))"
     ],
     "language": "python",
     "metadata": {},
     "outputs": [
      {
       "metadata": {},
       "output_type": "pyout",
       "prompt_number": 123,
       "text": [
        "array([[1, 1, 1],\n",
        "       [2, 2, 2],\n",
        "       [3, 3, 3],\n",
        "       [4, 4, 4],\n",
        "       [5, 5, 5],\n",
        "       [6, 6, 6]])"
       ]
      }
     ],
     "prompt_number": 123
    },
    {
     "cell_type": "markdown",
     "metadata": {},
     "source": [
      "### Copia de datos y vistas\n",
      "Operando arreglos multidimensionales, en ocasiones los datos se copian a un nuevo arreglo y en otras no, para evitar confusiones veremos los casos."
     ]
    },
    {
     "cell_type": "code",
     "collapsed": false,
     "input": [
      "a = np.arange(12)\n",
      "a"
     ],
     "language": "python",
     "metadata": {},
     "outputs": [
      {
       "metadata": {},
       "output_type": "pyout",
       "prompt_number": 124,
       "text": [
        "array([ 0,  1,  2,  3,  4,  5,  6,  7,  8,  9, 10, 11])"
       ]
      }
     ],
     "prompt_number": 124
    },
    {
     "cell_type": "code",
     "collapsed": false,
     "input": [
      "# El operados = no hace copia de los datos, solo pasa la referencia al \n",
      "# puntero donde esta la informacion\n",
      "b = a \n",
      "b is a "
     ],
     "language": "python",
     "metadata": {},
     "outputs": [
      {
       "metadata": {},
       "output_type": "pyout",
       "prompt_number": 126,
       "text": [
        "True"
       ]
      }
     ],
     "prompt_number": 126
    },
    {
     "cell_type": "code",
     "collapsed": false,
     "input": [
      "# Los cambios realizados en b, tambien afectan al arreglo a, esto sucede igual\n",
      "# al pasar parametros en una funcion\n",
      "b.resize(3,4)\n",
      "a.shape"
     ],
     "language": "python",
     "metadata": {},
     "outputs": [
      {
       "metadata": {},
       "output_type": "pyout",
       "prompt_number": 129,
       "text": [
        "(3L, 4L)"
       ]
      }
     ],
     "prompt_number": 129
    },
    {
     "cell_type": "markdown",
     "metadata": {},
     "source": [
      "#### Vistas o copia ligera\n",
      "La diferencia con las vistas, es que dos objetos ndarray que observan a los mismos datos. <br>\n",
      "Al hacer un recorte de un arreglo, estamos creado una vista."
     ]
    },
    {
     "cell_type": "code",
     "collapsed": false,
     "input": [
      "c = a.view()\n",
      "c is a "
     ],
     "language": "python",
     "metadata": {},
     "outputs": [
      {
       "metadata": {},
       "output_type": "pyout",
       "prompt_number": 131,
       "text": [
        "False"
       ]
      }
     ],
     "prompt_number": 131
    },
    {
     "cell_type": "code",
     "collapsed": false,
     "input": [
      "# Cambiamos la forma de los datos en c, sin que se afecte en a\n",
      "c.resize((12))\n",
      "c"
     ],
     "language": "python",
     "metadata": {},
     "outputs": [
      {
       "metadata": {},
       "output_type": "pyout",
       "prompt_number": 133,
       "text": [
        "array([ 0,  1,  2,  3,  4,  5,  6,  7,  8,  9, 10, 11])"
       ]
      }
     ],
     "prompt_number": 133
    },
    {
     "cell_type": "code",
     "collapsed": false,
     "input": [
      "a"
     ],
     "language": "python",
     "metadata": {},
     "outputs": [
      {
       "metadata": {},
       "output_type": "pyout",
       "prompt_number": 134,
       "text": [
        "array([[ 0,  1,  2,  3],\n",
        "       [ 4,  5,  6,  7],\n",
        "       [ 8,  9, 10, 11]])"
       ]
      }
     ],
     "prompt_number": 134
    },
    {
     "cell_type": "code",
     "collapsed": false,
     "input": [
      "# Pero al cambiar un dato en el arreglo a ...\n",
      "a[0] = -9999\n",
      "c"
     ],
     "language": "python",
     "metadata": {},
     "outputs": [
      {
       "metadata": {},
       "output_type": "pyout",
       "prompt_number": 135,
       "text": [
        "array([-9999, -9999, -9999, -9999,     4,     5,     6,     7,     8,\n",
        "           9,    10,    11])"
       ]
      }
     ],
     "prompt_number": 135
    },
    {
     "cell_type": "markdown",
     "metadata": {},
     "source": [
      "#### Copia real de datos\n",
      "El metodo copy() hace una copia completa del arreglo y de sus datos."
     ]
    },
    {
     "cell_type": "code",
     "collapsed": false,
     "input": [
      "d = a.copy()\n",
      "d is a"
     ],
     "language": "python",
     "metadata": {},
     "outputs": [
      {
       "metadata": {},
       "output_type": "pyout",
       "prompt_number": 136,
       "text": [
        "False"
       ]
      }
     ],
     "prompt_number": 136
    },
    {
     "cell_type": "code",
     "collapsed": false,
     "input": [
      "d[0,0] = 5555\n",
      "a"
     ],
     "language": "python",
     "metadata": {},
     "outputs": [
      {
       "metadata": {},
       "output_type": "pyout",
       "prompt_number": 139,
       "text": [
        "array([[-9999, -9999, -9999, -9999],\n",
        "       [    4,     5,     6,     7],\n",
        "       [    8,     9,    10,    11]])"
       ]
      }
     ],
     "prompt_number": 139
    },
    {
     "cell_type": "code",
     "collapsed": false,
     "input": [
      "d"
     ],
     "language": "python",
     "metadata": {},
     "outputs": [
      {
       "metadata": {},
       "output_type": "pyout",
       "prompt_number": 140,
       "text": [
        "array([[ 5555, -9999, -9999, -9999],\n",
        "       [    4,     5,     6,     7],\n",
        "       [    8,     9,    10,    11]])"
       ]
      }
     ],
     "prompt_number": 140
    },
    {
     "cell_type": "markdown",
     "metadata": {},
     "source": [
      "### Arreglos con mascara\n",
      "Para manejar arreglos de datos que puedan contener datos invalidos, por lo que es conveniente usar un arreglo con mascara para no incluir esos datos en las operaciones.<br>\n",
      "Documentacion completa: http://docs.scipy.org/doc/numpy/reference/maskedarray.generic.html"
     ]
    },
    {
     "cell_type": "code",
     "collapsed": false,
     "input": [
      "# Importar el modulo para arreglos con mascara\n",
      "import numpy.ma as ma"
     ],
     "language": "python",
     "metadata": {},
     "outputs": [],
     "prompt_number": 181
    },
    {
     "cell_type": "code",
     "collapsed": false,
     "input": [
      "x = np.array([1,2,-1,4,5,6,-1,8,9])\n",
      "mx = ma.masked_array(x , mask=[0,0,1,0,0,0,1,0,0])\n",
      "mx"
     ],
     "language": "python",
     "metadata": {},
     "outputs": [
      {
       "metadata": {},
       "output_type": "pyout",
       "prompt_number": 186,
       "text": [
        "masked_array(data = [1 2 -- 4 5 6 -- 8 9],\n",
        "             mask = [False False  True False False False  True False False],\n",
        "       fill_value = 999999)"
       ]
      }
     ],
     "prompt_number": 186
    },
    {
     "cell_type": "code",
     "collapsed": false,
     "input": [
      "# En todas las operaciones sobre el arreglo no se contaran los datos enmascarados.\n",
      "mx.mean()"
     ],
     "language": "python",
     "metadata": {},
     "outputs": [
      {
       "metadata": {},
       "output_type": "pyout",
       "prompt_number": 198,
       "text": [
        "5.0"
       ]
      }
     ],
     "prompt_number": 198
    },
    {
     "cell_type": "code",
     "collapsed": false,
     "input": [
      "# Es posible crear una mascara con alguna condicion sobre el arreglo.\n",
      "nmx = ma.masked_array(x , mask=(x <0))\n",
      "nmx"
     ],
     "language": "python",
     "metadata": {},
     "outputs": [
      {
       "metadata": {},
       "output_type": "pyout",
       "prompt_number": 194,
       "text": [
        "masked_array(data = [1 2 -- 4 5 6 -- 8 9],\n",
        "             mask = [False False  True False False False  True False False],\n",
        "       fill_value = 999999)"
       ]
      }
     ],
     "prompt_number": 194
    },
    {
     "cell_type": "code",
     "collapsed": false,
     "input": [
      "# Accediendo a la mascara\n",
      "mx.mask"
     ],
     "language": "python",
     "metadata": {},
     "outputs": [
      {
       "metadata": {},
       "output_type": "pyout",
       "prompt_number": 196,
       "text": [
        "array([False, False,  True, False, False, False,  True, False, False], dtype=bool)"
       ]
      }
     ],
     "prompt_number": 196
    },
    {
     "cell_type": "code",
     "collapsed": false,
     "input": [
      "# Recuperar los datos validos\n",
      "mx.compressed()"
     ],
     "language": "python",
     "metadata": {},
     "outputs": [
      {
       "metadata": {},
       "output_type": "pyout",
       "prompt_number": 197,
       "text": [
        "array([1, 2, 4, 5, 6, 8, 9])"
       ]
      }
     ],
     "prompt_number": 197
    },
    {
     "cell_type": "markdown",
     "metadata": {},
     "source": [
      "### Salvando sesion de trabajo y compartir con matlab\n",
      "Metodos adicionales, para salvar, archivos de text, binarios comprimidos, etc: http://docs.scipy.org/doc/numpy/reference/routines.io.html"
     ]
    },
    {
     "cell_type": "code",
     "collapsed": false,
     "input": [
      "# Arreglos de trabajo\n",
      "a = np.random.random((5,5))\n",
      "b = np.floor(np.random.random((11,11)) * 10)"
     ],
     "language": "python",
     "metadata": {},
     "outputs": [],
     "prompt_number": 211
    },
    {
     "cell_type": "code",
     "collapsed": false,
     "input": [
      "# Salvar mis datos en el archivo misesion.npz\n",
      "np.savez('misesion',a=a,b=b)"
     ],
     "language": "python",
     "metadata": {},
     "outputs": [],
     "prompt_number": 212
    },
    {
     "cell_type": "code",
     "collapsed": false,
     "input": [
      "# Recuperar mi sesion\n",
      "data = np.load('misesion.npz')\n",
      "data.keys()"
     ],
     "language": "python",
     "metadata": {},
     "outputs": [
      {
       "metadata": {},
       "output_type": "pyout",
       "prompt_number": 213,
       "text": [
        "['a', 'b']"
       ]
      }
     ],
     "prompt_number": 213
    },
    {
     "cell_type": "code",
     "collapsed": false,
     "input": [
      "data['a']"
     ],
     "language": "python",
     "metadata": {},
     "outputs": [
      {
       "metadata": {},
       "output_type": "pyout",
       "prompt_number": 214,
       "text": [
        "array([[ 0.26596061,  0.51563564,  0.32893387,  0.97302418,  0.22747961],\n",
        "       [ 0.57810557,  0.02393492,  0.92533645,  0.06273824,  0.14167024],\n",
        "       [ 0.25591666,  0.75379359,  0.40904911,  0.14093804,  0.3689539 ],\n",
        "       [ 0.872699  ,  0.63920675,  0.11773579,  0.07958734,  0.19843123],\n",
        "       [ 0.03289301,  0.8906415 ,  0.36326463,  0.16188814,  0.28328437]])"
       ]
      }
     ],
     "prompt_number": 214
    },
    {
     "cell_type": "markdown",
     "metadata": {},
     "source": [
      "#### Recuperar datos de un archivo .mat\n"
     ]
    },
    {
     "cell_type": "code",
     "collapsed": false,
     "input": [
      "from scipy.io import loadmat\n",
      "\n",
      "mat = loadmat('datos.mat')\n",
      "mat"
     ],
     "language": "python",
     "metadata": {},
     "outputs": [
      {
       "metadata": {},
       "output_type": "pyout",
       "prompt_number": 217,
       "text": [
        "{'__globals__': [],\n",
        " '__header__': 'MATLAB 5.0 MAT-file, Platform: PCWIN64, Created on: Wed Sep 30 22:28:07 2015',\n",
        " '__version__': '1.0',\n",
        " 'a': array([[ 0,  1,  4,  9, 16, 25, 36, 49, 64, 81]], dtype=uint8),\n",
        " 'b': array([[1, 1, 1, 1],\n",
        "        [1, 1, 1, 1],\n",
        "        [1, 1, 1, 1],\n",
        "        [1, 1, 1, 1]], dtype=uint8)}"
       ]
      }
     ],
     "prompt_number": 217
    },
    {
     "cell_type": "code",
     "collapsed": false,
     "input": [
      "mat['a']"
     ],
     "language": "python",
     "metadata": {},
     "outputs": [
      {
       "metadata": {},
       "output_type": "pyout",
       "prompt_number": 218,
       "text": [
        "array([[ 0,  1,  4,  9, 16, 25, 36, 49, 64, 81]], dtype=uint8)"
       ]
      }
     ],
     "prompt_number": 218
    },
    {
     "cell_type": "markdown",
     "metadata": {},
     "source": [
      "##### Salvar en un .mat"
     ]
    },
    {
     "cell_type": "code",
     "collapsed": false,
     "input": [
      "from scipy.io import savemat\n",
      "\n",
      "savemat('salida.mat',{'a':a, 'b':b})"
     ],
     "language": "python",
     "metadata": {},
     "outputs": [],
     "prompt_number": 219
    },
    {
     "cell_type": "code",
     "collapsed": false,
     "input": [],
     "language": "python",
     "metadata": {},
     "outputs": []
    }
   ],
   "metadata": {}
  }
 ]
}