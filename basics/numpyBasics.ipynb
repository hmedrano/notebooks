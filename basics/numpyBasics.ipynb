{
 "metadata": {
  "name": "",
  "signature": "sha256:541a98e070e4f7bf656216e394580b6fd263b09d681e6593ea8a2e11a635fcdd"
 },
 "nbformat": 3,
 "nbformat_minor": 0,
 "worksheets": [
  {
   "cells": [
    {
     "cell_type": "code",
     "collapsed": false,
     "input": [
      "##Numpy Basics"
     ],
     "language": "python",
     "metadata": {},
     "outputs": []
    },
    {
     "cell_type": "code",
     "collapsed": false,
     "input": [
      "# La convencion para el uso de NumPy\n",
      "import numpy as np\n",
      "\n"
     ],
     "language": "python",
     "metadata": {},
     "outputs": []
    },
    {
     "cell_type": "code",
     "collapsed": false,
     "input": [
      "# Creando un arreglo, a partir de una lista de python\n",
      "mi_array = np.array( [0,1,2,3] )\n",
      "mi_array"
     ],
     "language": "python",
     "metadata": {},
     "outputs": []
    },
    {
     "cell_type": "code",
     "collapsed": false,
     "input": [
      "# Que hay dentro del objeto mi_arreglo\n",
      "print mi_array.size\n",
      "print mi_array.shape\n",
      "#dir(mi_array)"
     ],
     "language": "python",
     "metadata": {},
     "outputs": []
    },
    {
     "cell_type": "markdown",
     "metadata": {},
     "source": [
      "**Equivalencias en matlab**\n",
      "```matlab\n",
      "numel(mi_array)  ,  size(mi_array)\n",
      "```"
     ]
    },
    {
     "cell_type": "code",
     "collapsed": false,
     "input": [
      "# Es posible modificar el tipo de dato del arreglo\n",
      "str_array = mi_arreglo.astype(str)"
     ],
     "language": "python",
     "metadata": {},
     "outputs": []
    },
    {
     "cell_type": "code",
     "collapsed": false,
     "input": [
      "# Cual es la diferencia entre estos dos\n",
      "for i in mi_arreglo:\n",
      "    print i*4\n",
      "    \n",
      "print '------------'\n",
      "\n",
      "for i in str_array:\n",
      "    print i*4"
     ],
     "language": "python",
     "metadata": {},
     "outputs": []
    },
    {
     "cell_type": "code",
     "collapsed": false,
     "input": [
      "# Lo anterior fue basicamente una lista de python, Numpy es mas util cuando se \n",
      "# trata de arreglos multidimensionales.\n",
      "dim2_array = np.array([[0,1,2,3], [0,1,2,3], [0,1,2,4]])\n",
      "\n",
      "print dim2_array.ndim\n",
      "print dim2_array.shape\n",
      "print dim2_array.size"
     ],
     "language": "python",
     "metadata": {},
     "outputs": []
    },
    {
     "cell_type": "code",
     "collapsed": false,
     "input": [
      "# Al hacer operaciones matematicas sobre los arreglos, uno puede escoger \n",
      "# hacerlo sobre todo el arreglo, o linea por linea.\n",
      "print np.mean(dim2_array)"
     ],
     "language": "python",
     "metadata": {},
     "outputs": []
    },
    {
     "cell_type": "code",
     "collapsed": false,
     "input": [
      "print np.mean(dim2_array, axis = 0)"
     ],
     "language": "python",
     "metadata": {},
     "outputs": []
    },
    {
     "cell_type": "code",
     "collapsed": false,
     "input": [
      "print np.mean(dim2_array, axis = 1)"
     ],
     "language": "python",
     "metadata": {},
     "outputs": []
    },
    {
     "cell_type": "code",
     "collapsed": false,
     "input": [
      "# Algo importante que hace NumPy es la posibilidad de seleccionar rangos del \n",
      "# arreglo, \"indexing\"\n",
      "dim2_array[:]"
     ],
     "language": "python",
     "metadata": {},
     "outputs": []
    },
    {
     "cell_type": "code",
     "collapsed": false,
     "input": [
      "dim2_array[:2]"
     ],
     "language": "python",
     "metadata": {},
     "outputs": []
    },
    {
     "cell_type": "code",
     "collapsed": false,
     "input": [
      "dim2_array[:2,:2]"
     ],
     "language": "python",
     "metadata": {},
     "outputs": []
    },
    {
     "cell_type": "code",
     "collapsed": false,
     "input": [
      "dim2_array[0][::-1]"
     ],
     "language": "python",
     "metadata": {},
     "outputs": []
    },
    {
     "cell_type": "code",
     "collapsed": false,
     "input": [],
     "language": "python",
     "metadata": {},
     "outputs": []
    },
    {
     "cell_type": "code",
     "collapsed": false,
     "input": [],
     "language": "python",
     "metadata": {},
     "outputs": []
    }
   ],
   "metadata": {}
  }
 ]
}