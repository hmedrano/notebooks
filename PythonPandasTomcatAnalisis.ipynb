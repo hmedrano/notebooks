{
 "metadata": {
  "name": ""
 },
 "nbformat": 3,
 "nbformat_minor": 0,
 "worksheets": [
  {
   "cells": [
    {
     "cell_type": "heading",
     "level": 3,
     "metadata": {},
     "source": [
      "Listamos los archivos log que nos interesa analizar. En este caso, todo lo que encontremos en el directorio log."
     ]
    },
    {
     "cell_type": "code",
     "collapsed": false,
     "input": [
      "import os\n",
      "from glob import glob\n",
      "import pandas as pd \n",
      "import apachelog\n",
      "\n",
      "logPath = 'sample_logs'\n",
      "wildCard = 'localhost_access_log.*.txt'\n",
      "\n",
      "logFiles = glob(os.path.join(logPath,wildCard))\n",
      "logFiles.sort()\n",
      "\n",
      "logFormat = r'%h %l %u %t \\\"%r\\\" %>s %b'\n",
      "myParser = apachelog.parser(logFormat)\n",
      "\n",
      "# Analizar todos los archivos, y cargarlos a la lista\n",
      "log_list = []\n",
      "for logfile in logFiles:    \n",
      "    fp = open(logfile,'r')\n",
      "    \n",
      "    for line in fp.readlines():\n",
      "        data = None \n",
      "        try:\n",
      "            data = myParser.parse(line)  \n",
      "        except Exception, e:\n",
      "            # print 'No se pudo hacer el analisis de : ' + str(line) \n",
      "            continue\n",
      "        # Removemos los corchetes en los que tomcat encierra la fecha de la peticion.\n",
      "        data['%t'] = data['%t'][1:12]+' '+ data['%t'][13:21]+' '+data['%t'][22:27]\n",
      "        if (data['%h'] != '158.97.1.9' and data['%h'] != '158.97.83.160' and data['%h'] != '0:0:0:0:0:0:0:1'):\n",
      "            log_list.append(data)\n",
      "        # Agregar a la lista\n",
      "        #log_list.append(data)\n",
      "    fp.close()\n",
      "\n",
      "# Creamos el dataframe a partir de la informacion\n",
      "logsDF = pd.DataFrame(log_list) \n",
      "# Renombramos las columnas de nuestros datos\n",
      "logsDF = logsDF.rename(columns={'%h':'host' , '%l':'identd' , '%u':'User' , '%t':'Time' , \\\n",
      "                            '%r':'Request' , '%>s':'Status' , '%b':'Size' , '%{User-Agent}i':'User-Agent'})\n",
      "\n",
      "# Hacemos del campo time, nuestro indice\n",
      "logsDF.index = pd.to_datetime(logsDF.pop('Time'))\n"
     ],
     "language": "python",
     "metadata": {},
     "outputs": [],
     "prompt_number": 17
    },
    {
     "cell_type": "heading",
     "level": 4,
     "metadata": {},
     "source": [
      "El metodo apply nos permite aplicar una funcion a cada uno de los elementos de esa serie que se especifique. Aqui la utilizamos para convertir nuestra informacion al tipo de datos que nos interesa."
     ]
    },
    {
     "cell_type": "code",
     "collapsed": false,
     "input": [
      "# Columna Size a MB, y 0 donde Size sea '-'\n",
      "logsDF['Size'] = logsDF['Size'].apply(lambda x: 0 if x=='-' else float(x)/1048576)\n",
      "# Columna Status a entero\n",
      "logsDF['Status'] = logsDF['Status'].apply(lambda x: int(x))\n",
      "\n",
      "# Previsualizacion de los primeros datos de nuestro DataFrame\n",
      "logsDF.head()"
     ],
     "language": "python",
     "metadata": {},
     "outputs": [
      {
       "html": [
        "<div style=\"max-height:1000px;max-width:1500px;overflow:auto;\">\n",
        "<table border=\"1\" class=\"dataframe\">\n",
        "  <thead>\n",
        "    <tr style=\"text-align: right;\">\n",
        "      <th></th>\n",
        "      <th>Status</th>\n",
        "      <th>Size</th>\n",
        "      <th>host</th>\n",
        "      <th>identd</th>\n",
        "      <th>Request</th>\n",
        "      <th>User</th>\n",
        "    </tr>\n",
        "    <tr>\n",
        "      <th>Time</th>\n",
        "      <th></th>\n",
        "      <th></th>\n",
        "      <th></th>\n",
        "      <th></th>\n",
        "      <th></th>\n",
        "      <th></th>\n",
        "    </tr>\n",
        "  </thead>\n",
        "  <tbody>\n",
        "    <tr>\n",
        "      <th>2014-10-10 07:37:55</th>\n",
        "      <td> 401</td>\n",
        "      <td> 0.00091</td>\n",
        "      <td> 117.21.173.155</td>\n",
        "      <td> -</td>\n",
        "      <td> GET /manager/html HTTP/1.1</td>\n",
        "      <td> -</td>\n",
        "    </tr>\n",
        "    <tr>\n",
        "      <th>2014-10-10 07:37:55</th>\n",
        "      <td> 401</td>\n",
        "      <td> 0.00091</td>\n",
        "      <td> 117.21.173.155</td>\n",
        "      <td> -</td>\n",
        "      <td> GET /manager/html HTTP/1.1</td>\n",
        "      <td> -</td>\n",
        "    </tr>\n",
        "    <tr>\n",
        "      <th>2014-10-10 07:37:55</th>\n",
        "      <td> 401</td>\n",
        "      <td> 0.00091</td>\n",
        "      <td> 117.21.173.155</td>\n",
        "      <td> -</td>\n",
        "      <td> GET /manager/html HTTP/1.1</td>\n",
        "      <td> -</td>\n",
        "    </tr>\n",
        "    <tr>\n",
        "      <th>2014-10-10 07:37:55</th>\n",
        "      <td> 401</td>\n",
        "      <td> 0.00091</td>\n",
        "      <td>  70.62.196.219</td>\n",
        "      <td> -</td>\n",
        "      <td> GET /manager/html HTTP/1.1</td>\n",
        "      <td> -</td>\n",
        "    </tr>\n",
        "    <tr>\n",
        "      <th>2014-10-10 07:37:55</th>\n",
        "      <td> 401</td>\n",
        "      <td> 0.00091</td>\n",
        "      <td> 117.21.173.155</td>\n",
        "      <td> -</td>\n",
        "      <td> GET /manager/html HTTP/1.1</td>\n",
        "      <td> -</td>\n",
        "    </tr>\n",
        "  </tbody>\n",
        "</table>\n",
        "</div>"
       ],
       "metadata": {},
       "output_type": "pyout",
       "prompt_number": 18,
       "text": [
        "                     Status     Size            host identd  \\\n",
        "Time                                                          \n",
        "2014-10-10 07:37:55     401  0.00091  117.21.173.155      -   \n",
        "2014-10-10 07:37:55     401  0.00091  117.21.173.155      -   \n",
        "2014-10-10 07:37:55     401  0.00091  117.21.173.155      -   \n",
        "2014-10-10 07:37:55     401  0.00091   70.62.196.219      -   \n",
        "2014-10-10 07:37:55     401  0.00091  117.21.173.155      -   \n",
        "\n",
        "                                        Request User  \n",
        "Time                                                  \n",
        "2014-10-10 07:37:55  GET /manager/html HTTP/1.1    -  \n",
        "2014-10-10 07:37:55  GET /manager/html HTTP/1.1    -  \n",
        "2014-10-10 07:37:55  GET /manager/html HTTP/1.1    -  \n",
        "2014-10-10 07:37:55  GET /manager/html HTTP/1.1    -  \n",
        "2014-10-10 07:37:55  GET /manager/html HTTP/1.1    -  "
       ]
      }
     ],
     "prompt_number": 18
    },
    {
     "cell_type": "heading",
     "level": 4,
     "metadata": {},
     "source": [
      "Iniciamos el modo de grafico interactivo, con matplotlib"
     ]
    },
    {
     "cell_type": "code",
     "collapsed": false,
     "input": [
      "import matplotlib\n",
      "import matplotlib.pyplot as plt \n",
      "\n",
      "%pylab inline"
     ],
     "language": "python",
     "metadata": {},
     "outputs": [
      {
       "output_type": "stream",
       "stream": "stdout",
       "text": [
        "Populating the interactive namespace from numpy and matplotlib\n"
       ]
      }
     ],
     "prompt_number": 12
    },
    {
     "cell_type": "heading",
     "level": 4,
     "metadata": {},
     "source": [
      "Primer Analisis: Visitas totales y unicas"
     ]
    },
    {
     "cell_type": "code",
     "collapsed": false,
     "input": [
      "# Agrupamos por fecha, y contamos los 'host's unicos. Devuelve una copia\n",
      "dailyUnique = logsDF.groupby(logsDF.index.date)['host'].nunique()\n",
      "# Definimos nuestro indice como serie de tiempo.\n",
      "dailyUnique.index = dailyUnique.index.to_datetime()\n",
      "# Una de las cosas interesantes de Pandas, la posibilidad de \n",
      "# \"remuestrear\" la serie por cierto periodo, este caso 'D' = por dia\n",
      "dailyUnique = dailyUnique.resample('D')\n",
      "\n",
      "# Contamos las peticiones diarias totales\n",
      "# Seleccionamos las entradas donde 'Size' sea mayor a cero, \"remuestreamos\"\n",
      "# por dia y contamos el numero de resultados, que cumplan la condicion.\n",
      "dailyTotal = logsDF['Size'][logsDF['Size']>0].resample('D', how='count')\n",
      "\n",
      "# Graficamos los resultados. Pandas y matplotlib colaborando \n",
      "# de forma transparente.\n",
      "dailyUnique.plot(label='Visitas unicas',legend=True)\n",
      "plt.legend(loc='upper left')\n",
      "dailyTotal.plot(label='Peticiones totales',color='r',secondary_y=True,legend=True)\n",
      "plt.legend(loc='upper right')"
     ],
     "language": "python",
     "metadata": {},
     "outputs": [
      {
       "metadata": {},
       "output_type": "pyout",
       "prompt_number": 15,
       "text": [
        "<matplotlib.legend.Legend at 0xc35c8d0>"
       ]
      },
      {
       "metadata": {},
       "output_type": "display_data",
       "png": "[encoded data removed]",
       "text": [
        "<matplotlib.figure.Figure at 0x9ca2f50>"
       ]
      }
     ],
     "prompt_number": 15
    },
    {
     "cell_type": "heading",
     "level": 4,
     "metadata": {},
     "source": [
      "Segundo analisis: peticiones por IP"
     ]
    },
    {
     "cell_type": "code",
     "collapsed": false,
     "input": [
      "# Contar las visitas unicas por IP, ordenado de forma descendente\n",
      "# Filtramos solo las visitas con un estado <400 (aceptadas)\n",
      "uniqueIpVisits = logsDF[logsDF['Status']<400]['host'].value_counts()\n",
      "uniqueIpVisits.sort() \n",
      "\n",
      "# Graficamos la informacion, solo las primeras 20\n",
      "plt.title('Visitas por IP 20 mas activas')\n",
      "uniqueIpVisits[-20:].plot(kind='barh')\n"
     ],
     "language": "python",
     "metadata": {},
     "outputs": [
      {
       "metadata": {},
       "output_type": "pyout",
       "prompt_number": 19,
       "text": [
        "<matplotlib.axes.AxesSubplot at 0x60ab270>"
       ]
      },
      {
       "metadata": {},
       "output_type": "display_data",
       "png": "[encoded data removed]",
       "text": [
        "<matplotlib.figure.Figure at 0xb1cd6b0>"
       ]
      }
     ],
     "prompt_number": 19
    },
    {
     "cell_type": "heading",
     "level": 4,
     "metadata": {},
     "source": [
      "De estos resultados, ahora nos interesa conocer, de que lugar vienen estos\n",
      "IP's, para esto contamos con el modulo pygeoip (https://github.com/appliedsec/pygeoip), que junto a la base de datos geografica de IP's, podremos obtener datos acerca del IP que nos visita. (Bases de datos soportadas: http://pygeoip.readthedocs.org/en/latest/supported-databases.html)\n",
      "<br><br>\n",
      "Crearemos un nuevo Dataframe con los datos entregados por la consulta al IP."
     ]
    },
    {
     "cell_type": "code",
     "collapsed": false,
     "input": [
      "# Geolocalizar las peticiones\n",
      "import pygeoip\n",
      "\n",
      "# Cargar base de datos geografica\n",
      "gi = pygeoip.GeoIP('./GeoLiteCity.dat', pygeoip.MEMORY_CACHE)\n",
      "\n",
      "# Iteramos nuestro previo analisis de visitas unicas por IP\n",
      "# para obtener datos geograficos de esos IP's\n",
      "ip_records = []\n",
      "for ip, value in uniqueIpVisits.iteritems():\n",
      "    # Consulta a registro por ip\n",
      "    record = gi.record_by_addr(ip)\n",
      "    if record:\n",
      "        # Agregamos una entrada del numero de peticiones hechas por\n",
      "        # este ip.\n",
      "        record['visitas'] = int(value)\n",
      "        # Incluimos en nuestra lista solo los campos que nos interesan\n",
      "        ip_records.append({'peticiones':int(value), 'ciudad':record['city'], \\\n",
      "                           'pais': record['country_name'], 'longitud':float(record['longitude']),\\\n",
      "                           'latitud':float(record['latitude'])})\n",
      "\n",
      "# Creamos nuestro Dataframe con ip_records\n",
      "geoipDF = pd.DataFrame(ip_records)\n",
      "geoipDF.head()\n"
     ],
     "language": "python",
     "metadata": {},
     "outputs": [
      {
       "html": [
        "<div style=\"max-height:1000px;max-width:1500px;overflow:auto;\">\n",
        "<table border=\"1\" class=\"dataframe\">\n",
        "  <thead>\n",
        "    <tr style=\"text-align: right;\">\n",
        "      <th></th>\n",
        "      <th>ciudad</th>\n",
        "      <th>latitud</th>\n",
        "      <th>longitud</th>\n",
        "      <th>pais</th>\n",
        "      <th>peticiones</th>\n",
        "    </tr>\n",
        "  </thead>\n",
        "  <tbody>\n",
        "    <tr>\n",
        "      <th>0</th>\n",
        "      <td>     Shaw</td>\n",
        "      <td> 33.6165</td>\n",
        "      <td> -90.7752</td>\n",
        "      <td> United States</td>\n",
        "      <td>   1</td>\n",
        "    </tr>\n",
        "    <tr>\n",
        "      <th>1</th>\n",
        "      <td>   Mexico</td>\n",
        "      <td> 19.4342</td>\n",
        "      <td> -99.1386</td>\n",
        "      <td>        Mexico</td>\n",
        "      <td>   1</td>\n",
        "    </tr>\n",
        "    <tr>\n",
        "      <th>2</th>\n",
        "      <td>   Mexico</td>\n",
        "      <td> 19.4342</td>\n",
        "      <td> -99.1386</td>\n",
        "      <td>        Mexico</td>\n",
        "      <td>   5</td>\n",
        "    </tr>\n",
        "    <tr>\n",
        "      <th>3</th>\n",
        "      <td> Ensenada</td>\n",
        "      <td> 31.8667</td>\n",
        "      <td>-116.6167</td>\n",
        "      <td>        Mexico</td>\n",
        "      <td>  16</td>\n",
        "    </tr>\n",
        "    <tr>\n",
        "      <th>4</th>\n",
        "      <td> Ensenada</td>\n",
        "      <td> 31.8667</td>\n",
        "      <td>-116.6167</td>\n",
        "      <td>        Mexico</td>\n",
        "      <td> 175</td>\n",
        "    </tr>\n",
        "  </tbody>\n",
        "</table>\n",
        "</div>"
       ],
       "metadata": {},
       "output_type": "pyout",
       "prompt_number": 28,
       "text": [
        "     ciudad  latitud  longitud           pais  peticiones\n",
        "0      Shaw  33.6165  -90.7752  United States           1\n",
        "1    Mexico  19.4342  -99.1386         Mexico           1\n",
        "2    Mexico  19.4342  -99.1386         Mexico           5\n",
        "3  Ensenada  31.8667 -116.6167         Mexico          16\n",
        "4  Ensenada  31.8667 -116.6167         Mexico         175"
       ]
      }
     ],
     "prompt_number": 28
    },
    {
     "cell_type": "code",
     "collapsed": false,
     "input": [],
     "language": "python",
     "metadata": {},
     "outputs": []
    }
   ],
   "metadata": {}
  }
 ]
}